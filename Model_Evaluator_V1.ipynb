{
  "nbformat": 4,
  "nbformat_minor": 0,
  "metadata": {
    "colab": {
      "name": "Model_Evaluator_V1",
      "provenance": [],
      "collapsed_sections": [],
      "authorship_tag": "ABX9TyMBuAkeeVF7BnjcoqJ1xVjO",
      "include_colab_link": true
    },
    "kernelspec": {
      "name": "python3",
      "display_name": "Python 3"
    },
    "language_info": {
      "name": "python"
    }
  },
  "cells": [
    {
      "cell_type": "markdown",
      "metadata": {
        "id": "view-in-github",
        "colab_type": "text"
      },
      "source": [
        "<a href=\"https://colab.research.google.com/github/RavinduHiroshan/Real-and-Synthetic-image-classification/blob/main/Model_Evaluator_V1.ipynb\" target=\"_parent\"><img src=\"https://colab.research.google.com/assets/colab-badge.svg\" alt=\"Open In Colab\"/></a>"
      ]
    },
    {
      "cell_type": "markdown",
      "source": [
        "# **Modal Evaluator**\n",
        "\n",
        "\n",
        "\n"
      ],
      "metadata": {
        "id": "O_QgRawIxA0y"
      }
    },
    {
      "cell_type": "code",
      "execution_count": null,
      "metadata": {
        "id": "lWibIid0mYol"
      },
      "outputs": [],
      "source": [
        "# loading library\n",
        "import pickle\n",
        "import tensorflow as tf\n",
        "import glob\n",
        "import PIL"
      ]
    },
    {
      "cell_type": "code",
      "source": [
        "#Mount Google Drive\n",
        "from google.colab import drive\n",
        "drive.mount('/content/drive/')"
      ],
      "metadata": {
        "colab": {
          "base_uri": "https://localhost:8080/"
        },
        "id": "1xixe2xP0xQ0",
        "outputId": "03624c1d-ab0c-4e90-82ab-80315f1a4917"
      },
      "execution_count": null,
      "outputs": [
        {
          "output_type": "stream",
          "name": "stdout",
          "text": [
            "Drive already mounted at /content/drive/; to attempt to forcibly remount, call drive.mount(\"/content/drive/\", force_remount=True).\n"
          ]
        }
      ]
    },
    {
      "cell_type": "markdown",
      "source": [
        "Load Model Files\n",
        "\n",
        "---\n",
        "Model shuld be saved inside \n",
        "\n",
        "\n",
        "Create Short cut on my drive \n",
        "\n",
        "\n",
        "\n",
        "![image.png](data:image/png;base64,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)\n",
        "\n",
        "\n",
        "\n"
      ],
      "metadata": {
        "id": "rMBgPH25yAdK"
      }
    },
    {
      "cell_type": "code",
      "source": [
        "###### File name of the model #####\n",
        "filename= 'Glide_Version_1_Model_6.pkl'\n",
        "##\n",
        "dir = '/content/drive/MyDrive/VIP_CUP/Models/'\n",
        "model = pickle.load(open(dir+filename , 'rb')) "
      ],
      "metadata": {
        "id": "dMVzTJtfzrf9"
      },
      "execution_count": null,
      "outputs": []
    },
    {
      "cell_type": "markdown",
      "source": [
        "# **Load Data Set**\n",
        "\n",
        "note- Order of the classnames should be corrected according to the training dataset"
      ],
      "metadata": {
        "id": "_5DHcX1f0ywb"
      }
    },
    {
      "cell_type": "code",
      "source": [
        "###### Folder Name #####\n",
        "dataSet = 'Glide/Test'\n",
        "##########################\n",
        "dirToData = '/content/drive/My Drive/VIP_CUP/'\n",
        "test = tf.keras.preprocessing.image_dataset_from_directory(\n",
        "      dirToData+dataSet,\n",
        "      labels = \"inferred\",\n",
        "      label_mode = \"categorical\",\n",
        "      color_mode = \"rgb\",\n",
        "      image_size = (224,224),\n",
        "      class_names = ['Synthetic','real']\n",
        ")\n",
        "classnames = test.class_names\n",
        "print(classnames)"
      ],
      "metadata": {
        "colab": {
          "base_uri": "https://localhost:8080/"
        },
        "id": "WbNir8J80Ufz",
        "outputId": "25527650-08dc-47ac-ca28-831356519816"
      },
      "execution_count": null,
      "outputs": [
        {
          "output_type": "stream",
          "name": "stdout",
          "text": [
            "Found 1434 files belonging to 2 classes.\n",
            "['Synthetic', 'real']\n"
          ]
        }
      ]
    },
    {
      "cell_type": "markdown",
      "source": [
        "Model Test Results"
      ],
      "metadata": {
        "id": "nPYPBlA-3C2q"
      }
    },
    {
      "cell_type": "code",
      "source": [
        "#Result According to tf function\n",
        "result = model.evaluate(test,batch_size=64)\n",
        "print('Loss =',result[0],'Accuracy =',result[1])"
      ],
      "metadata": {
        "colab": {
          "base_uri": "https://localhost:8080/"
        },
        "id": "cbnJ89KACip_",
        "outputId": "c3536d59-5c85-4112-e8a1-c7c4126fda9b"
      },
      "execution_count": null,
      "outputs": [
        {
          "output_type": "stream",
          "name": "stdout",
          "text": [
            "45/45 [==============================] - 83s 2s/step - loss: 0.8008 - accuracy: 0.8543\n",
            "Loss = 0.8007570505142212 Accuracy = 0.8542538285255432\n"
          ]
        }
      ]
    },
    {
      "cell_type": "code",
      "source": [
        "###### Folder Name #####\n",
        "dataSet = 'Glide/Test/Synthetic/'\n",
        "img = 'annot000000114943.png' \n",
        "##########################\n",
        "dirToData = '/content/drive/My Drive/VIP_CUP/'\n",
        "import numpy as np\n",
        "test_image = tf.keras.utils.load_img(dirToData+dataSet+img,target_size=(224,224))\n",
        "test_image =  tf.keras.utils.img_to_array(test_image)\n",
        "test_image = np.expand_dims(test_image, axis = 0)\n",
        "result = model.predict(test_image)\n",
        "print(test_image.shape)\n",
        "print(result)"
      ],
      "metadata": {
        "colab": {
          "base_uri": "https://localhost:8080/"
        },
        "id": "_k32d4a2UZ5t",
        "outputId": "cbb08648-b8b7-4ca6-d7ab-6d92023c2273"
      },
      "execution_count": null,
      "outputs": [
        {
          "output_type": "stream",
          "name": "stdout",
          "text": [
            "(1, 224, 224, 3)\n",
            "[[9.9997211e-01 2.7906692e-05]]\n"
          ]
        }
      ]
    },
    {
      "cell_type": "code",
      "source": [
        "###### Folder Name #####\n",
        "dataSet = 'Glide/Test/'\n",
        "##########################\n",
        "dirToData = '/content/drive/My Drive/VIP_CUP/'\n",
        "filelistreal = glob.glob(dirToData+dataSet+'real/*.jpg')\n",
        "xreal = np.array([np.array(tf.keras.utils.load_img(fname,target_size=(224,224))) for fname in filelistreal])\n",
        "filelistsyn = glob.glob(dirToData+dataSet+'Synthetic/*.png')\n",
        "xsyn = np.array([np.array(tf.keras.utils.load_img(fname,target_size=(224,224))) for fname in filelistsyn])"
      ],
      "metadata": {
        "id": "EjLVDUUDXsvP"
      },
      "execution_count": null,
      "outputs": []
    },
    {
      "cell_type": "code",
      "source": [
        "retotal=0\n",
        "retrue=0\n",
        "#result[0][0] is the synthetic output \n",
        "#clase name shold be class_names = ['Synthetic','real']\n",
        "for i in xreal:\n",
        "  i =  tf.keras.utils.img_to_array(i)\n",
        "  i = np.expand_dims(i, axis = 0)\n",
        "  result = model.predict(i)\n",
        "  retotal+=1\n",
        "  if result[0][0] < result[0][1]:\n",
        "    retrue+=1\n",
        "for i in xsyn:\n",
        "  i =  tf.keras.utils.img_to_array(i)\n",
        "  i = np.expand_dims(i, axis = 0)\n",
        "  result = model.predict(i)\n",
        "  retotal+=1\n",
        "  if result[0][0] > result[0][1]:\n",
        "    retrue+=1"
      ],
      "metadata": {
        "id": "h0rzCl3oYUY9"
      },
      "execution_count": null,
      "outputs": []
    },
    {
      "cell_type": "code",
      "source": [
        "print('Accuracy =',retrue/retotal)"
      ],
      "metadata": {
        "id": "yxuR_8PsYUdY"
      },
      "execution_count": null,
      "outputs": []
    }
  ]
}