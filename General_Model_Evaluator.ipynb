{
  "nbformat": 4,
  "nbformat_minor": 0,
  "metadata": {
    "colab": {
      "name": "General_Model_Evaluator.ipynb",
      "provenance": [],
      "collapsed_sections": [],
      "authorship_tag": "ABX9TyMLsKQVgTSx/cQBvD0UGKob",
      "include_colab_link": true
    },
    "kernelspec": {
      "name": "python3",
      "display_name": "Python 3"
    },
    "language_info": {
      "name": "python"
    },
    "gpuClass": "standard"
  },
  "cells": [
    {
      "cell_type": "markdown",
      "metadata": {
        "id": "view-in-github",
        "colab_type": "text"
      },
      "source": [
        "<a href=\"https://colab.research.google.com/github/RavinduHiroshan/Real-and-Synthetic-image-classification/blob/main/General_Model_Evaluator.ipynb\" target=\"_parent\"><img src=\"https://colab.research.google.com/assets/colab-badge.svg\" alt=\"Open In Colab\"/></a>"
      ]
    },
    {
      "cell_type": "code",
      "execution_count": null,
      "metadata": {
        "id": "HKO6QZey54aM"
      },
      "outputs": [],
      "source": [
        "import tensorflow as tf\n",
        "import numpy as np\n",
        "import tqdm\n",
        "import pickle\n",
        "import os\n",
        "from os import walk\n",
        "import pandas as pd\n",
        "from keras.models import load_model"
      ]
    },
    {
      "cell_type": "code",
      "source": [
        "#Mount Google Drive\n",
        "from google.colab import drive\n",
        "drive.mount('/content/drive/')"
      ],
      "metadata": {
        "colab": {
          "base_uri": "https://localhost:8080/"
        },
        "id": "NkP-tvJ96Cng",
        "outputId": "bd2e58fa-64ba-4f3d-de1a-56d73dfd76b3"
      },
      "execution_count": null,
      "outputs": [
        {
          "output_type": "stream",
          "name": "stdout",
          "text": [
            "Drive already mounted at /content/drive/; to attempt to forcibly remount, call drive.mount(\"/content/drive/\", force_remount=True).\n"
          ]
        }
      ]
    },
    {
      "cell_type": "markdown",
      "source": [
        "# *Raid Data Set Reading*"
      ],
      "metadata": {
        "id": "UdXwg0L3M9dQ"
      }
    },
    {
      "cell_type": "code",
      "source": [
        "AUTOTUNE = tf.data.AUTOTUNE\n",
        "def decode_img(img):\n",
        "  # Convert the compressed string to a 3D uint8 tensor\n",
        "  img = tf.io.decode_jpeg(img, channels=3)\n",
        "  # Resize the image to the desired size\n",
        "  return tf.image.resize(img, [200, 200])\n",
        "def get_label(file_path):\n",
        "  # Convert the path to a list of path components\n",
        "  parts = tf.strings.split(file_path, os.path.sep)\n",
        "  # The second to last is the class-directory\n",
        "  one_hot = parts[index[0]] == class_names\n",
        "  # Integer encode the label\n",
        "  return tf.argmax(one_hot)\n",
        "\n",
        "def process_path(file_path):\n",
        "  label = [1,0]\n",
        "  if get_label(file_path)==1:\n",
        "    label = [0,1]\n",
        "  # Load the raw data from the file as a string\n",
        "  img = tf.io.read_file(file_path)\n",
        "  img = decode_img(img)\n",
        "  return img, label\n",
        "def get_images(file_path):\n",
        "  # Load the raw data from the file as a string\n",
        "  img = tf.io.read_file(file_path)\n",
        "  img = decode_img(img)\n",
        "  return img\n",
        "\n",
        "def configure_for_performance(ds):\n",
        "  ds = ds.cache()\n",
        "  ds = ds.batch(32)\n",
        "  ds = ds.shuffle(buffer_size=1000)\n",
        "  ds = ds.prefetch(buffer_size=AUTOTUNE)\n",
        "  return ds\n",
        "\n",
        "def fileRead(dir_path,all):\n",
        "  for (dir_path2, dir_names, file_names) in walk(dir_path):\n",
        "    if len(file_names)>0:\n",
        "      print(dir_path)\n",
        "      for i in tqdm.tqdm(file_names,total=len(file_names)):\n",
        "        all.append(dir_path+'/'+i)        \n",
        "    if len(dir_names)>0:\n",
        "      length = len(dir_names)\n",
        "      for path in range(length-1,-1,-1):\n",
        "        path_name = dir_names.pop()\n",
        "        fileRead(dir_path+'/'+path_name,all)\n",
        "def mainFileRead(dir_path):\n",
        "  all=[]\n",
        "  fileRead(dir_path,all)\n",
        "  return all"
      ],
      "metadata": {
        "id": "2TABPKrGDpll"
      },
      "execution_count": null,
      "outputs": []
    },
    {
      "cell_type": "code",
      "source": [
        "#Make sure directory names are correct, otherwis results will be wrong\n",
        "class_names = ['real', 'synthetic']\n",
        "\n",
        "Directory_to_parent_folder = \"/content/drive/MyDrive/VIP_CUP/general_data_set/test/v1\"\n",
        "#Directory_to_parent_folder = '/content/drive/MyDrive/VIP_CUP/Inpainting/Test/version_1'\n",
        "imageList = mainFileRead(Directory_to_parent_folder)\n",
        "# print(imageList[0])\n",
        "parts = tf.strings.split(imageList[0], os.path.sep)\n",
        "# print(parts)\n",
        "print('-------------')\n",
        "a = np.where(parts == class_names[0])\n",
        "b = np.where(parts == class_names[1])\n",
        "if len(a[0])>0:\n",
        "  index = a[0] \n",
        "  print('a',a)\n",
        "elif (len(b[0])>0):\n",
        "  index = b[0]\n",
        "  print('b',b)\n",
        "else:\n",
        "  print('Directory Error')\n",
        "print('This nuber shuld be checked-',index[0])\n",
        "print(parts[index[0]])"
      ],
      "metadata": {
        "colab": {
          "base_uri": "https://localhost:8080/"
        },
        "id": "2c4fT8hCDubE",
        "outputId": "02ab568d-b9d4-4b79-87fd-c482f29a8333"
      },
      "execution_count": null,
      "outputs": [
        {
          "output_type": "stream",
          "name": "stdout",
          "text": [
            "/content/drive/MyDrive/VIP_CUP/general_data_set/test/v1/synthetic/gan3\n"
          ]
        },
        {
          "output_type": "stream",
          "name": "stderr",
          "text": [
            "100%|██████████| 59/59 [00:00<00:00, 385457.84it/s]\n"
          ]
        },
        {
          "output_type": "stream",
          "name": "stdout",
          "text": [
            "/content/drive/MyDrive/VIP_CUP/general_data_set/test/v1/synthetic/glide\n"
          ]
        },
        {
          "output_type": "stream",
          "name": "stderr",
          "text": [
            "100%|██████████| 400/400 [00:00<00:00, 906876.54it/s]\n"
          ]
        },
        {
          "output_type": "stream",
          "name": "stdout",
          "text": [
            "/content/drive/MyDrive/VIP_CUP/general_data_set/test/v1/synthetic/inpainting\n"
          ]
        },
        {
          "output_type": "stream",
          "name": "stderr",
          "text": [
            "100%|██████████| 400/400 [00:00<00:00, 688719.87it/s]\n"
          ]
        },
        {
          "output_type": "stream",
          "name": "stdout",
          "text": [
            "/content/drive/MyDrive/VIP_CUP/general_data_set/test/v1/synthetic/gan2\n"
          ]
        },
        {
          "output_type": "stream",
          "name": "stderr",
          "text": [
            "100%|██████████| 100/100 [00:00<00:00, 603496.98it/s]\n"
          ]
        },
        {
          "output_type": "stream",
          "name": "stdout",
          "text": [
            "/content/drive/MyDrive/VIP_CUP/general_data_set/test/v1/real/gan3\n"
          ]
        },
        {
          "output_type": "stream",
          "name": "stderr",
          "text": [
            "100%|██████████| 48/48 [00:00<00:00, 236854.81it/s]\n"
          ]
        },
        {
          "output_type": "stream",
          "name": "stdout",
          "text": [
            "/content/drive/MyDrive/VIP_CUP/general_data_set/test/v1/real/inpainting\n"
          ]
        },
        {
          "output_type": "stream",
          "name": "stderr",
          "text": [
            "100%|██████████| 1034/1034 [00:00<00:00, 1026244.76it/s]\n"
          ]
        },
        {
          "output_type": "stream",
          "name": "stdout",
          "text": [
            "/content/drive/MyDrive/VIP_CUP/general_data_set/test/v1/real/gan2\n"
          ]
        },
        {
          "output_type": "stream",
          "name": "stderr",
          "text": [
            "100%|██████████| 102/102 [00:00<00:00, 569665.79it/s]"
          ]
        },
        {
          "output_type": "stream",
          "name": "stdout",
          "text": [
            "-------------\n",
            "b (array([8]),)\n",
            "This nuber shuld be checked- 8\n",
            "tf.Tensor(b'synthetic', shape=(), dtype=string)\n"
          ]
        },
        {
          "output_type": "stream",
          "name": "stderr",
          "text": [
            "\n"
          ]
        }
      ]
    },
    {
      "cell_type": "code",
      "source": [
        "image_count = len(imageList)\n",
        "list_ds = tf.data.Dataset.from_tensor_slices(imageList)\n",
        "val_size = int(image_count * 0.2)\n",
        "train_ds = list_ds.skip(val_size)\n",
        "val_ds = list_ds.take(val_size)"
      ],
      "metadata": {
        "id": "UCnx7TNFqWjk"
      },
      "execution_count": null,
      "outputs": []
    },
    {
      "cell_type": "code",
      "source": [
        "print(tf.data.experimental.cardinality(train_ds).numpy())\n",
        "print(tf.data.experimental.cardinality(val_ds).numpy())"
      ],
      "metadata": {
        "colab": {
          "base_uri": "https://localhost:8080/"
        },
        "id": "OBJMahTDIjrS",
        "outputId": "257d7f5a-84f3-41da-fc65-431a87239763"
      },
      "execution_count": null,
      "outputs": [
        {
          "output_type": "stream",
          "name": "stdout",
          "text": [
            "1715\n",
            "428\n"
          ]
        }
      ]
    },
    {
      "cell_type": "code",
      "source": [
        "# Set `num_parallel_calls` so multiple images are loaded/processed in parallel.\n",
        "train_ds = train_ds.map(process_path, num_parallel_calls=AUTOTUNE)\n",
        "val_ds = val_ds.map(process_path, num_parallel_calls=AUTOTUNE)"
      ],
      "metadata": {
        "id": "fyo0kL_6I3z8"
      },
      "execution_count": null,
      "outputs": []
    },
    {
      "cell_type": "code",
      "source": [
        ""
      ],
      "metadata": {
        "id": "qFWpnfiALKdC"
      },
      "execution_count": null,
      "outputs": []
    },
    {
      "cell_type": "code",
      "source": [
        "print('Number of Images',tf.data.experimental.cardinality(list_ds).numpy())\n",
        "data_set = configure_for_performance(list_ds.map(process_path, num_parallel_calls=AUTOTUNE))\n",
        "data_set"
      ],
      "metadata": {
        "colab": {
          "base_uri": "https://localhost:8080/"
        },
        "id": "awuY_tvFIL6k",
        "outputId": "aa17b74f-a969-4479-f89c-d03c6b89b998"
      },
      "execution_count": null,
      "outputs": [
        {
          "output_type": "stream",
          "name": "stdout",
          "text": [
            "Number of Images 2143\n"
          ]
        },
        {
          "output_type": "execute_result",
          "data": {
            "text/plain": [
              "<PrefetchDataset element_spec=(TensorSpec(shape=(None, 200, 200, 3), dtype=tf.float32, name=None), TensorSpec(shape=(None, 2), dtype=tf.int32, name=None))>"
            ]
          },
          "metadata": {},
          "execution_count": 54
        }
      ]
    },
    {
      "cell_type": "markdown",
      "source": [
        "#*Model Loading*"
      ],
      "metadata": {
        "id": "T7lUGxzMNTj7"
      }
    },
    {
      "cell_type": "code",
      "source": [
        "###### File name of the model #####\n",
        "# model1= 'glide-resnet.pkl'\n",
        "# dir = '/content/drive/MyDrive/VIP_CUP/Models/'\n",
        "dir = '/content/drive/MyDrive/VIP_CUP/Models/submission-v1.0/Models/'\n",
        "\n",
        "gan2 = load_model(dir+'gan2v2-resnet.h5')\n",
        "gan3 = load_model('/content/drive/MyDrive/VIP_CUP/Models/gan3v2-resnet.h5')\n",
        "glide = load_model(dir+'glide-resnet.h5')\n",
        "impainting = load_model(dir+'impainting-resnet.h5')\n",
        "transformer = load_model(dir+'Transform-resnet.h5')"
      ],
      "metadata": {
        "id": "jVF-70w36eSn"
      },
      "execution_count": null,
      "outputs": []
    },
    {
      "cell_type": "markdown",
      "source": [
        "#*Model Evaluating*"
      ],
      "metadata": {
        "id": "FVOzohL4NYkP"
      }
    },
    {
      "cell_type": "code",
      "source": [
        "# Do not run\n",
        "# result = model.evaluate(data_set,batch_size=64)\n",
        "# print('Loss =',result[0],'Accuracy =',result[1])"
      ],
      "metadata": {
        "id": "_SSqJFPt6h1n"
      },
      "execution_count": null,
      "outputs": []
    },
    {
      "cell_type": "code",
      "source": [
        "def predict1(prediction1,prediction2,prediction3,prediction4,prediction5):\n",
        "  if prediction1[0][0]<prediction1[0][1] or prediction2[0][0]<prediction2[0][1] or prediction3[0][0]<prediction3[0][1] or prediction4[0][0]<prediction4[0][1] or prediction5[0][0]<prediction5[0][1]:\n",
        "    logit=1\n",
        "  else:\n",
        "    logit=-1\n",
        "  return logit \n",
        "#gan2, gan3, glide, impainting, transformer\n",
        "# Gan3 - 0.6165\n",
        "# glide- 0.9312\n",
        "# gan2 - 0.6201\n",
        "# inpainting - 0.9295\n",
        "# tranaform - 0.8411\n",
        "\n",
        "def predict(prediction1,prediction2,prediction3,prediction4,prediction5):\n",
        "  accuracies=[0.6201,0.6165,0.9312,0.9295,0.8411]\n",
        "  accuracies=np.array(accuracies)\n",
        "  accuracies=accuracies/accuracies.sum(axis=0,keepdims=1)\n",
        "  real=prediction1[0][0]*accuracies[0]+prediction2[0][0]*accuracies[1]+prediction3[0][0]*accuracies[2]+prediction4[0][0]*accuracies[3]+prediction5[0][0]*accuracies[4]\n",
        "  synthetic=prediction1[0][1]*accuracies[0]+prediction2[0][1]*accuracies[1]+prediction3[0][1]*accuracies[2]+prediction4[0][1]*accuracies[3]+prediction5[0][1]*accuracies[4]\n",
        "  if real>synthetic:\n",
        "    logit=-1\n",
        "  else:\n",
        "    logit=1  \n",
        "  return logit  "
      ],
      "metadata": {
        "id": "JwGNk2X2zxv4"
      },
      "execution_count": null,
      "outputs": []
    },
    {
      "cell_type": "code",
      "source": [
        "singe_images = configure_for_performance(list_ds.map(get_images, num_parallel_calls=AUTOTUNE))\n",
        "singe_images"
      ],
      "metadata": {
        "id": "8yHj467K1Bwy",
        "colab": {
          "base_uri": "https://localhost:8080/"
        },
        "outputId": "02c02c5c-49b6-4a48-87b9-0a23f773c8cf"
      },
      "execution_count": null,
      "outputs": [
        {
          "output_type": "execute_result",
          "data": {
            "text/plain": [
              "<PrefetchDataset element_spec=TensorSpec(shape=(None, 200, 200, 3), dtype=tf.float32, name=None)>"
            ]
          },
          "metadata": {},
          "execution_count": 33
        }
      ]
    },
    {
      "cell_type": "code",
      "source": [
        "imagescsv = np.array(imageList)\n",
        "imagescsv = np.reshape(imagescsv, (-1, 1))\n",
        "imagescsv = pd.DataFrame(imagescsv, columns=['filePath'])\n",
        "imagescsv.to_csv('imagescsv.csv')\n",
        "tab = pd.read_csv('imagescsv.csv')\n",
        "labels = ['real', 'synthetic','Real', 'Synthetic']\n",
        "predicton_list = []\n",
        "for index, dat in tqdm.tqdm(tab.iterrows(), total=len(tab)):\n",
        "  parts = tf.strings.split(dat['filePath'], os.path.sep)\n",
        "  if (labels[0] in parts) or (labels[2] in parts):\n",
        "    ans = -1\n",
        "  elif (labels[1] in parts) or (labels[3] in parts):\n",
        "    ans= +1\n",
        "  else:\n",
        "    print(\"Error\")\n",
        "    break\n",
        "  predicton_list.append(ans)"
      ],
      "metadata": {
        "id": "hoaGGgk24wuX",
        "colab": {
          "base_uri": "https://localhost:8080/"
        },
        "outputId": "5a2fda8d-4268-4557-ca26-98a89cc5ae04"
      },
      "execution_count": null,
      "outputs": [
        {
          "output_type": "stream",
          "name": "stderr",
          "text": [
            "100%|██████████| 2143/2143 [00:27<00:00, 77.71it/s] \n"
          ]
        }
      ]
    },
    {
      "cell_type": "code",
      "source": [
        "tab['label']=predicton_list\n",
        "print(tab)"
      ],
      "metadata": {
        "colab": {
          "base_uri": "https://localhost:8080/"
        },
        "id": "iPtfplTaShw6",
        "outputId": "682e683d-8cef-453f-b6d7-19ec928d2438"
      },
      "execution_count": null,
      "outputs": [
        {
          "output_type": "stream",
          "name": "stdout",
          "text": [
            "      Unnamed: 0                                           filePath  label\n",
            "0              0  /content/drive/MyDrive/VIP_CUP/general_data_se...      1\n",
            "1              1  /content/drive/MyDrive/VIP_CUP/general_data_se...      1\n",
            "2              2  /content/drive/MyDrive/VIP_CUP/general_data_se...      1\n",
            "3              3  /content/drive/MyDrive/VIP_CUP/general_data_se...      1\n",
            "4              4  /content/drive/MyDrive/VIP_CUP/general_data_se...      1\n",
            "...          ...                                                ...    ...\n",
            "2138        2138  /content/drive/MyDrive/VIP_CUP/general_data_se...     -1\n",
            "2139        2139  /content/drive/MyDrive/VIP_CUP/general_data_se...     -1\n",
            "2140        2140  /content/drive/MyDrive/VIP_CUP/general_data_se...     -1\n",
            "2141        2141  /content/drive/MyDrive/VIP_CUP/general_data_se...     -1\n",
            "2142        2142  /content/drive/MyDrive/VIP_CUP/general_data_se...     -1\n",
            "\n",
            "[2143 rows x 3 columns]\n"
          ]
        }
      ]
    },
    {
      "cell_type": "code",
      "source": [
        "for index, dat in tqdm.tqdm(tab.iterrows(), total=len(tab)): # for on images\n",
        "    filename = dat['filePath']# filepath of an image\n",
        "    test_image = tf.keras.utils.load_img(filename,target_size=(200,200))\n",
        "    test_image = tf.keras.utils.img_to_array(test_image)\n",
        "    test_image = np.expand_dims(test_image, axis = 0)\n",
        "    logit = predict(gan2.predict(test_image),gan3.predict(test_image),glide.predict(test_image),impainting.predict(test_image),transformer.predict(test_image))# TODO compute the logit for the image\n",
        "    tab.loc[index,'logit'] = logit  # insert the logit in table\n",
        "tab.to_csv('output_csv', index=False) "
      ],
      "metadata": {
        "id": "3lFNzi802QvY",
        "colab": {
          "base_uri": "https://localhost:8080/"
        },
        "outputId": "0bf28ed8-02d0-4d5e-a7e1-78999a287245"
      },
      "execution_count": null,
      "outputs": [
        {
          "output_type": "stream",
          "name": "stderr",
          "text": [
            "  0%|          | 0/2143 [00:00<?, ?it/s]WARNING:tensorflow:5 out of the last 10903 calls to <function Model.make_predict_function.<locals>.predict_function at 0x7f196dd2a9e0> triggered tf.function retracing. Tracing is expensive and the excessive number of tracings could be due to (1) creating @tf.function repeatedly in a loop, (2) passing tensors with different shapes, (3) passing Python objects instead of tensors. For (1), please define your @tf.function outside of the loop. For (2), @tf.function has experimental_relax_shapes=True option that relaxes argument shapes that can avoid unnecessary retracing. For (3), please refer to https://www.tensorflow.org/guide/function#controlling_retracing and https://www.tensorflow.org/api_docs/python/tf/function for  more details.\n",
            "100%|██████████| 2143/2143 [33:13<00:00,  1.08it/s]\n"
          ]
        }
      ]
    },
    {
      "cell_type": "code",
      "source": [
        "out = pd.read_csv('output_csv')\n",
        "print(out)"
      ],
      "metadata": {
        "id": "w4PBCgq-EEjx",
        "colab": {
          "base_uri": "https://localhost:8080/"
        },
        "outputId": "4d124760-dc0f-4f8f-abf2-490201b04837"
      },
      "execution_count": null,
      "outputs": [
        {
          "output_type": "stream",
          "name": "stdout",
          "text": [
            "      Unnamed: 0                                           filePath  label  \\\n",
            "0              0  /content/drive/MyDrive/VIP_CUP/general_data_se...      1   \n",
            "1              1  /content/drive/MyDrive/VIP_CUP/general_data_se...      1   \n",
            "2              2  /content/drive/MyDrive/VIP_CUP/general_data_se...      1   \n",
            "3              3  /content/drive/MyDrive/VIP_CUP/general_data_se...      1   \n",
            "4              4  /content/drive/MyDrive/VIP_CUP/general_data_se...      1   \n",
            "...          ...                                                ...    ...   \n",
            "2138        2138  /content/drive/MyDrive/VIP_CUP/general_data_se...     -1   \n",
            "2139        2139  /content/drive/MyDrive/VIP_CUP/general_data_se...     -1   \n",
            "2140        2140  /content/drive/MyDrive/VIP_CUP/general_data_se...     -1   \n",
            "2141        2141  /content/drive/MyDrive/VIP_CUP/general_data_se...     -1   \n",
            "2142        2142  /content/drive/MyDrive/VIP_CUP/general_data_se...     -1   \n",
            "\n",
            "      logit  \n",
            "0       1.0  \n",
            "1       1.0  \n",
            "2      -1.0  \n",
            "3      -1.0  \n",
            "4      -1.0  \n",
            "...     ...  \n",
            "2138    1.0  \n",
            "2139   -1.0  \n",
            "2140   -1.0  \n",
            "2141    1.0  \n",
            "2142   -1.0  \n",
            "\n",
            "[2143 rows x 4 columns]\n"
          ]
        }
      ]
    },
    {
      "cell_type": "code",
      "source": [
        "label = np.array(out['label'])\n",
        "#label = label.astype(np.int32)\n",
        "logit = np.array(out['logit'])\n",
        "#logit = label.astype(np.int32)\n",
        "eval = np.add(label,logit)"
      ],
      "metadata": {
        "id": "Eb8ECOB-UQUq"
      },
      "execution_count": null,
      "outputs": []
    },
    {
      "cell_type": "code",
      "source": [
        "zero_count = np.count_nonzero(eval==0)\n",
        "accu = (len(eval)-zero_count)/len(eval)\n",
        "print('Accuracy;-',accu)"
      ],
      "metadata": {
        "colab": {
          "base_uri": "https://localhost:8080/"
        },
        "id": "tyuQW5M-Wggn",
        "outputId": "e5fa5cc5-753c-4143-980a-1f64033895c5"
      },
      "execution_count": null,
      "outputs": [
        {
          "output_type": "stream",
          "name": "stdout",
          "text": [
            "Accuracy;- 0.7867475501633224\n"
          ]
        }
      ]
    },
    {
      "cell_type": "code",
      "source": [
        "true_postive = np.count_nonzero(eval==2)\n",
        "true_negative= np.count_nonzero(eval==-2)\n",
        "false_postive = np.count_nonzero(logit ==1)-np.count_nonzero(eval == 2)\n",
        "false_negative = np.count_nonzero(logit ==-1)-np.count_nonzero(eval == -2)\n",
        "length = len(eval)\n",
        "print('true_postive-',true_postive/length,'true_negative-',true_negative/length,'false_negative-',false_negative/length,'false_postive-',false_postive/length)\n"
      ],
      "metadata": {
        "colab": {
          "base_uri": "https://localhost:8080/"
        },
        "id": "4dGe1jGTtv3g",
        "outputId": "aab8a155-dc4f-476c-a2e7-0f960fef1b45"
      },
      "execution_count": null,
      "outputs": [
        {
          "output_type": "stream",
          "name": "stdout",
          "text": [
            "true_postive- 0.27344843677088193 true_negative- 0.5132991133924405 false_negative- 0.17405506299580029 false_postive- 0.03919738684087728\n"
          ]
        }
      ]
    }
  ]
}