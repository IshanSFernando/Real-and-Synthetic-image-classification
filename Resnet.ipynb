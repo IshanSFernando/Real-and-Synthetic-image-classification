{
  "nbformat": 4,
  "nbformat_minor": 0,
  "metadata": {
    "colab": {
      "name": "Resnet.ipynb",
      "provenance": [],
      "collapsed_sections": [],
      "authorship_tag": "ABX9TyOC8DbjsjwmrVUkGThsOfiP",
      "include_colab_link": true
    },
    "kernelspec": {
      "name": "python3",
      "display_name": "Python 3"
    },
    "language_info": {
      "name": "python"
    },
    "accelerator": "GPU",
    "gpuClass": "standard"
  },
  "cells": [
    {
      "cell_type": "markdown",
      "metadata": {
        "id": "view-in-github",
        "colab_type": "text"
      },
      "source": [
        "<a href=\"https://colab.research.google.com/github/IshanSFernando/Real-and-Synthetic-image-classification/blob/main/Resnet.ipynb\" target=\"_parent\"><img src=\"https://colab.research.google.com/assets/colab-badge.svg\" alt=\"Open In Colab\"/></a>"
      ]
    },
    {
      "cell_type": "code",
      "execution_count": null,
      "metadata": {
        "colab": {
          "base_uri": "https://localhost:8080/"
        },
        "id": "LCBvuTWDp7_-",
        "outputId": "dde60d1b-e4db-4443-d614-5e0b4b1154f8"
      },
      "outputs": [
        {
          "output_type": "stream",
          "name": "stdout",
          "text": [
            "Mounted at /content/drive\n"
          ]
        }
      ],
      "source": [
        "from google.colab import drive\n",
        "drive.mount('/content/drive')"
      ]
    },
    {
      "cell_type": "code",
      "source": [
        "import tensorflow as tf\n",
        "\n",
        "train = tf.keras.preprocessing.image_dataset_from_directory(\n",
        "    '/content/drive/My Drive/version_1',\n",
        "      labels = \"inferred\",\n",
        "      label_mode = \"categorical\",\n",
        "      color_mode = \"rgb\",\n",
        "      batch_size = 32,\n",
        "      image_size = (200,200),\n",
        "      seed = 1234,\n",
        "      subset = \"training\",\n",
        "      validation_split = 0.2\n",
        ")\n",
        "\n",
        "valid = tf.keras.preprocessing.image_dataset_from_directory(\n",
        "    '/content/drive/My Drive/version_1',\n",
        "      labels = \"inferred\",\n",
        "      label_mode = \"categorical\",\n",
        "      color_mode = \"rgb\",\n",
        "      batch_size = 32,\n",
        "      image_size = (200,200),\n",
        "      seed = 1234,\n",
        "      subset = \"validation\",\n",
        "      validation_split = 0.2\n",
        ")"
      ],
      "metadata": {
        "colab": {
          "base_uri": "https://localhost:8080/"
        },
        "id": "K2u1Q3gt2K3o",
        "outputId": "eb2217b6-cb1c-4644-ce02-f64bf1721977"
      },
      "execution_count": null,
      "outputs": [
        {
          "output_type": "stream",
          "name": "stdout",
          "text": [
            "Found 3210 files belonging to 2 classes.\n",
            "Using 2568 files for training.\n",
            "Found 3210 files belonging to 2 classes.\n",
            "Using 642 files for validation.\n"
          ]
        }
      ]
    },
    {
      "cell_type": "code",
      "source": [
        "classnames = train.class_names\n",
        "print(classnames)#print classnames\n",
        "num_classes = len(classnames)"
      ],
      "metadata": {
        "colab": {
          "base_uri": "https://localhost:8080/"
        },
        "id": "XQD8Jhb_2OjA",
        "outputId": "875c5a6f-b87d-489b-8f82-e6a5debc75b7"
      },
      "execution_count": null,
      "outputs": [
        {
          "output_type": "stream",
          "name": "stdout",
          "text": [
            "['real', 'synthetic']\n",
            "<BatchDataset element_spec=(TensorSpec(shape=(None, 200, 200, 3), dtype=tf.float32, name=None), TensorSpec(shape=(None, 2), dtype=tf.float32, name=None))>\n",
            "<BatchDataset element_spec=(TensorSpec(shape=(None, 200, 200, 3), dtype=tf.float32, name=None), TensorSpec(shape=(None, 2), dtype=tf.float32, name=None))>\n"
          ]
        }
      ]
    },
    {
      "cell_type": "code",
      "source": [
        "from tensorflow.keras.layers import BatchNormalization\n",
        "from keras.layers.convolutional import Conv2D\n",
        "from keras.layers.convolutional import AveragePooling2D\n",
        "from keras.layers.convolutional import MaxPooling2D\n",
        "from keras.layers.convolutional import ZeroPadding2D\n",
        "from keras.layers.core import Activation\n",
        "from keras.layers.core import Dense\n",
        "from keras.layers import Flatten\n",
        "from keras.layers import Input\n",
        "from keras.models import Model\n",
        "from keras.layers import add\n",
        "from keras.regularizers import l2\n",
        "from keras import backend as K"
      ],
      "metadata": {
        "id": "eP2T6wAd2DfU"
      },
      "execution_count": null,
      "outputs": []
    },
    {
      "cell_type": "code",
      "source": [
        "class ResNet:\n",
        "  @staticmethod\n",
        "  def residual_module(data, K, stride, chanDim, red=False,reg=0.0001, bnEps=2e-5, bnMom=0.9):\n",
        "    shortcut = data\n",
        "    bn1 = BatchNormalization(axis=chanDim, epsilon=bnEps, momentum=bnMom)(data)\n",
        "    act1 = Activation(\"relu\")(bn1)\n",
        "    conv1 = Conv2D(int(K * 0.25), (1, 1), use_bias=False,kernel_regularizer=l2(reg))(act1)\n",
        "   \n",
        "    bn2 = BatchNormalization(axis=chanDim, epsilon=bnEps, momentum=bnMom)(conv1)\n",
        "    act2 = Activation(\"relu\")(bn2)\n",
        "    conv2 = Conv2D(int(K * 0.25), (3, 3), strides=stride, padding=\"same\", use_bias=False,kernel_regularizer=l2(reg))(act2)\n",
        "    \n",
        "    bn3 = BatchNormalization(axis=chanDim, epsilon=bnEps,momentum=bnMom)(conv2)\n",
        "    act3 = Activation(\"relu\")(bn3)\n",
        "    conv3 = Conv2D(K, (1, 1), use_bias=False, kernel_regularizer=l2(reg))(act3)\n",
        "\n",
        "    if red:\n",
        "      shortcut = Conv2D(K, (1, 1), strides=stride, use_bias=False,kernel_regularizer=l2(reg))(act1)\n",
        "    x = add([conv3, shortcut])\n",
        "    return x\n",
        "\n",
        "  @staticmethod\n",
        "  def build(width, height, depth, classes, stages, filters,reg=0.0001, bnEps=2e-5, bnMom=0.9):  \n",
        "    inputShape = (height, width, depth)\n",
        "    chanDim = -1\n",
        "    if K.image_data_format() == \"channels_first\":\n",
        "      inputShape = (depth, height, width)\n",
        "      chanDim = 1 \n",
        "\n",
        "    inputs = Input(shape=inputShape)\n",
        "    x = BatchNormalization(axis=chanDim, epsilon=bnEps,momentum=bnMom)(inputs)\n",
        "    x = Conv2D(filters[0], (5, 5), use_bias=False,padding=\"same\", kernel_regularizer=l2(reg))(x)\n",
        "    x = BatchNormalization(axis=chanDim, epsilon=bnEps,momentum=bnMom)(x)\n",
        "    x = Activation(\"relu\")(x)\n",
        "    x = ZeroPadding2D((1, 1))(x)\n",
        "    x = MaxPooling2D((3, 3), strides=(2, 2))(x)\n",
        "\n",
        "    for i in range(0, len(stages)):\n",
        "      stride = (1, 1) if i == 0 else (2, 2)\n",
        "      x = ResNet.residual_module(x, filters[i + 1], stride, chanDim, red=True, bnEps=bnEps, bnMom=bnMom)\n",
        "      for j in range(0, stages[i] - 1):\n",
        "        x = ResNet.residual_module(x, filters[i + 1],(1, 1), chanDim, bnEps=bnEps, bnMom=bnMom)\n",
        "\n",
        "    x = BatchNormalization(axis=chanDim, epsilon=bnEps,momentum=bnMom)(x)\n",
        "    x = Activation(\"relu\")(x)\n",
        "    x = AveragePooling2D((8, 8))(x)\n",
        "    x = Flatten()(x)\n",
        "    x = Dense(classes, kernel_regularizer=l2(reg))(x)\n",
        "    x = Activation(\"softmax\")(x)\n",
        "    \n",
        "    model = Model(inputs, x, name=\"resnet\")\n",
        "    \n",
        "    return model"
      ],
      "metadata": {
        "id": "NiyqBHbtqnQB"
      },
      "execution_count": null,
      "outputs": []
    },
    {
      "cell_type": "code",
      "source": [
        "resnet = ResNet.build(200,200,3,2,[3,4,6],[64,128,256,512])"
      ],
      "metadata": {
        "id": "OE_Tkt00u-Qo"
      },
      "execution_count": null,
      "outputs": []
    },
    {
      "cell_type": "code",
      "source": [
        "resnet.summary()"
      ],
      "metadata": {
        "colab": {
          "base_uri": "https://localhost:8080/"
        },
        "id": "FUGADhQ003ZS",
        "outputId": "57740466-e456-463e-cf8d-c45f75c2da76"
      },
      "execution_count": null,
      "outputs": [
        {
          "output_type": "stream",
          "name": "stdout",
          "text": [
            "Model: \"resnet\"\n",
            "__________________________________________________________________________________________________\n",
            " Layer (type)                   Output Shape         Param #     Connected to                     \n",
            "==================================================================================================\n",
            " input_1 (InputLayer)           [(None, 200, 200, 3  0           []                               \n",
            "                                )]                                                                \n",
            "                                                                                                  \n",
            " batch_normalization (BatchNorm  (None, 200, 200, 3)  12         ['input_1[0][0]']                \n",
            " alization)                                                                                       \n",
            "                                                                                                  \n",
            " conv2d (Conv2D)                (None, 200, 200, 64  4800        ['batch_normalization[0][0]']    \n",
            "                                )                                                                 \n",
            "                                                                                                  \n",
            " batch_normalization_1 (BatchNo  (None, 200, 200, 64  256        ['conv2d[0][0]']                 \n",
            " rmalization)                   )                                                                 \n",
            "                                                                                                  \n",
            " activation (Activation)        (None, 200, 200, 64  0           ['batch_normalization_1[0][0]']  \n",
            "                                )                                                                 \n",
            "                                                                                                  \n",
            " zero_padding2d (ZeroPadding2D)  (None, 202, 202, 64  0          ['activation[0][0]']             \n",
            "                                )                                                                 \n",
            "                                                                                                  \n",
            " max_pooling2d (MaxPooling2D)   (None, 100, 100, 64  0           ['zero_padding2d[0][0]']         \n",
            "                                )                                                                 \n",
            "                                                                                                  \n",
            " batch_normalization_2 (BatchNo  (None, 100, 100, 64  256        ['max_pooling2d[0][0]']          \n",
            " rmalization)                   )                                                                 \n",
            "                                                                                                  \n",
            " activation_1 (Activation)      (None, 100, 100, 64  0           ['batch_normalization_2[0][0]']  \n",
            "                                )                                                                 \n",
            "                                                                                                  \n",
            " conv2d_1 (Conv2D)              (None, 100, 100, 32  2048        ['activation_1[0][0]']           \n",
            "                                )                                                                 \n",
            "                                                                                                  \n",
            " batch_normalization_3 (BatchNo  (None, 100, 100, 32  128        ['conv2d_1[0][0]']               \n",
            " rmalization)                   )                                                                 \n",
            "                                                                                                  \n",
            " activation_2 (Activation)      (None, 100, 100, 32  0           ['batch_normalization_3[0][0]']  \n",
            "                                )                                                                 \n",
            "                                                                                                  \n",
            " conv2d_2 (Conv2D)              (None, 100, 100, 32  9216        ['activation_2[0][0]']           \n",
            "                                )                                                                 \n",
            "                                                                                                  \n",
            " batch_normalization_4 (BatchNo  (None, 100, 100, 32  128        ['conv2d_2[0][0]']               \n",
            " rmalization)                   )                                                                 \n",
            "                                                                                                  \n",
            " activation_3 (Activation)      (None, 100, 100, 32  0           ['batch_normalization_4[0][0]']  \n",
            "                                )                                                                 \n",
            "                                                                                                  \n",
            " conv2d_3 (Conv2D)              (None, 100, 100, 12  4096        ['activation_3[0][0]']           \n",
            "                                8)                                                                \n",
            "                                                                                                  \n",
            " conv2d_4 (Conv2D)              (None, 100, 100, 12  8192        ['activation_1[0][0]']           \n",
            "                                8)                                                                \n",
            "                                                                                                  \n",
            " add (Add)                      (None, 100, 100, 12  0           ['conv2d_3[0][0]',               \n",
            "                                8)                                'conv2d_4[0][0]']               \n",
            "                                                                                                  \n",
            " batch_normalization_5 (BatchNo  (None, 100, 100, 12  512        ['add[0][0]']                    \n",
            " rmalization)                   8)                                                                \n",
            "                                                                                                  \n",
            " activation_4 (Activation)      (None, 100, 100, 12  0           ['batch_normalization_5[0][0]']  \n",
            "                                8)                                                                \n",
            "                                                                                                  \n",
            " conv2d_5 (Conv2D)              (None, 100, 100, 32  4096        ['activation_4[0][0]']           \n",
            "                                )                                                                 \n",
            "                                                                                                  \n",
            " batch_normalization_6 (BatchNo  (None, 100, 100, 32  128        ['conv2d_5[0][0]']               \n",
            " rmalization)                   )                                                                 \n",
            "                                                                                                  \n",
            " activation_5 (Activation)      (None, 100, 100, 32  0           ['batch_normalization_6[0][0]']  \n",
            "                                )                                                                 \n",
            "                                                                                                  \n",
            " conv2d_6 (Conv2D)              (None, 100, 100, 32  9216        ['activation_5[0][0]']           \n",
            "                                )                                                                 \n",
            "                                                                                                  \n",
            " batch_normalization_7 (BatchNo  (None, 100, 100, 32  128        ['conv2d_6[0][0]']               \n",
            " rmalization)                   )                                                                 \n",
            "                                                                                                  \n",
            " activation_6 (Activation)      (None, 100, 100, 32  0           ['batch_normalization_7[0][0]']  \n",
            "                                )                                                                 \n",
            "                                                                                                  \n",
            " conv2d_7 (Conv2D)              (None, 100, 100, 12  4096        ['activation_6[0][0]']           \n",
            "                                8)                                                                \n",
            "                                                                                                  \n",
            " add_1 (Add)                    (None, 100, 100, 12  0           ['conv2d_7[0][0]',               \n",
            "                                8)                                'add[0][0]']                    \n",
            "                                                                                                  \n",
            " batch_normalization_8 (BatchNo  (None, 100, 100, 12  512        ['add_1[0][0]']                  \n",
            " rmalization)                   8)                                                                \n",
            "                                                                                                  \n",
            " activation_7 (Activation)      (None, 100, 100, 12  0           ['batch_normalization_8[0][0]']  \n",
            "                                8)                                                                \n",
            "                                                                                                  \n",
            " conv2d_8 (Conv2D)              (None, 100, 100, 32  4096        ['activation_7[0][0]']           \n",
            "                                )                                                                 \n",
            "                                                                                                  \n",
            " batch_normalization_9 (BatchNo  (None, 100, 100, 32  128        ['conv2d_8[0][0]']               \n",
            " rmalization)                   )                                                                 \n",
            "                                                                                                  \n",
            " activation_8 (Activation)      (None, 100, 100, 32  0           ['batch_normalization_9[0][0]']  \n",
            "                                )                                                                 \n",
            "                                                                                                  \n",
            " conv2d_9 (Conv2D)              (None, 100, 100, 32  9216        ['activation_8[0][0]']           \n",
            "                                )                                                                 \n",
            "                                                                                                  \n",
            " batch_normalization_10 (BatchN  (None, 100, 100, 32  128        ['conv2d_9[0][0]']               \n",
            " ormalization)                  )                                                                 \n",
            "                                                                                                  \n",
            " activation_9 (Activation)      (None, 100, 100, 32  0           ['batch_normalization_10[0][0]'] \n",
            "                                )                                                                 \n",
            "                                                                                                  \n",
            " conv2d_10 (Conv2D)             (None, 100, 100, 12  4096        ['activation_9[0][0]']           \n",
            "                                8)                                                                \n",
            "                                                                                                  \n",
            " add_2 (Add)                    (None, 100, 100, 12  0           ['conv2d_10[0][0]',              \n",
            "                                8)                                'add_1[0][0]']                  \n",
            "                                                                                                  \n",
            " batch_normalization_11 (BatchN  (None, 100, 100, 12  512        ['add_2[0][0]']                  \n",
            " ormalization)                  8)                                                                \n",
            "                                                                                                  \n",
            " activation_10 (Activation)     (None, 100, 100, 12  0           ['batch_normalization_11[0][0]'] \n",
            "                                8)                                                                \n",
            "                                                                                                  \n",
            " conv2d_11 (Conv2D)             (None, 100, 100, 64  8192        ['activation_10[0][0]']          \n",
            "                                )                                                                 \n",
            "                                                                                                  \n",
            " batch_normalization_12 (BatchN  (None, 100, 100, 64  256        ['conv2d_11[0][0]']              \n",
            " ormalization)                  )                                                                 \n",
            "                                                                                                  \n",
            " activation_11 (Activation)     (None, 100, 100, 64  0           ['batch_normalization_12[0][0]'] \n",
            "                                )                                                                 \n",
            "                                                                                                  \n",
            " conv2d_12 (Conv2D)             (None, 50, 50, 64)   36864       ['activation_11[0][0]']          \n",
            "                                                                                                  \n",
            " batch_normalization_13 (BatchN  (None, 50, 50, 64)  256         ['conv2d_12[0][0]']              \n",
            " ormalization)                                                                                    \n",
            "                                                                                                  \n",
            " activation_12 (Activation)     (None, 50, 50, 64)   0           ['batch_normalization_13[0][0]'] \n",
            "                                                                                                  \n",
            " conv2d_13 (Conv2D)             (None, 50, 50, 256)  16384       ['activation_12[0][0]']          \n",
            "                                                                                                  \n",
            " conv2d_14 (Conv2D)             (None, 50, 50, 256)  32768       ['activation_10[0][0]']          \n",
            "                                                                                                  \n",
            " add_3 (Add)                    (None, 50, 50, 256)  0           ['conv2d_13[0][0]',              \n",
            "                                                                  'conv2d_14[0][0]']              \n",
            "                                                                                                  \n",
            " batch_normalization_14 (BatchN  (None, 50, 50, 256)  1024       ['add_3[0][0]']                  \n",
            " ormalization)                                                                                    \n",
            "                                                                                                  \n",
            " activation_13 (Activation)     (None, 50, 50, 256)  0           ['batch_normalization_14[0][0]'] \n",
            "                                                                                                  \n",
            " conv2d_15 (Conv2D)             (None, 50, 50, 64)   16384       ['activation_13[0][0]']          \n",
            "                                                                                                  \n",
            " batch_normalization_15 (BatchN  (None, 50, 50, 64)  256         ['conv2d_15[0][0]']              \n",
            " ormalization)                                                                                    \n",
            "                                                                                                  \n",
            " activation_14 (Activation)     (None, 50, 50, 64)   0           ['batch_normalization_15[0][0]'] \n",
            "                                                                                                  \n",
            " conv2d_16 (Conv2D)             (None, 50, 50, 64)   36864       ['activation_14[0][0]']          \n",
            "                                                                                                  \n",
            " batch_normalization_16 (BatchN  (None, 50, 50, 64)  256         ['conv2d_16[0][0]']              \n",
            " ormalization)                                                                                    \n",
            "                                                                                                  \n",
            " activation_15 (Activation)     (None, 50, 50, 64)   0           ['batch_normalization_16[0][0]'] \n",
            "                                                                                                  \n",
            " conv2d_17 (Conv2D)             (None, 50, 50, 256)  16384       ['activation_15[0][0]']          \n",
            "                                                                                                  \n",
            " add_4 (Add)                    (None, 50, 50, 256)  0           ['conv2d_17[0][0]',              \n",
            "                                                                  'add_3[0][0]']                  \n",
            "                                                                                                  \n",
            " batch_normalization_17 (BatchN  (None, 50, 50, 256)  1024       ['add_4[0][0]']                  \n",
            " ormalization)                                                                                    \n",
            "                                                                                                  \n",
            " activation_16 (Activation)     (None, 50, 50, 256)  0           ['batch_normalization_17[0][0]'] \n",
            "                                                                                                  \n",
            " conv2d_18 (Conv2D)             (None, 50, 50, 64)   16384       ['activation_16[0][0]']          \n",
            "                                                                                                  \n",
            " batch_normalization_18 (BatchN  (None, 50, 50, 64)  256         ['conv2d_18[0][0]']              \n",
            " ormalization)                                                                                    \n",
            "                                                                                                  \n",
            " activation_17 (Activation)     (None, 50, 50, 64)   0           ['batch_normalization_18[0][0]'] \n",
            "                                                                                                  \n",
            " conv2d_19 (Conv2D)             (None, 50, 50, 64)   36864       ['activation_17[0][0]']          \n",
            "                                                                                                  \n",
            " batch_normalization_19 (BatchN  (None, 50, 50, 64)  256         ['conv2d_19[0][0]']              \n",
            " ormalization)                                                                                    \n",
            "                                                                                                  \n",
            " activation_18 (Activation)     (None, 50, 50, 64)   0           ['batch_normalization_19[0][0]'] \n",
            "                                                                                                  \n",
            " conv2d_20 (Conv2D)             (None, 50, 50, 256)  16384       ['activation_18[0][0]']          \n",
            "                                                                                                  \n",
            " add_5 (Add)                    (None, 50, 50, 256)  0           ['conv2d_20[0][0]',              \n",
            "                                                                  'add_4[0][0]']                  \n",
            "                                                                                                  \n",
            " batch_normalization_20 (BatchN  (None, 50, 50, 256)  1024       ['add_5[0][0]']                  \n",
            " ormalization)                                                                                    \n",
            "                                                                                                  \n",
            " activation_19 (Activation)     (None, 50, 50, 256)  0           ['batch_normalization_20[0][0]'] \n",
            "                                                                                                  \n",
            " conv2d_21 (Conv2D)             (None, 50, 50, 64)   16384       ['activation_19[0][0]']          \n",
            "                                                                                                  \n",
            " batch_normalization_21 (BatchN  (None, 50, 50, 64)  256         ['conv2d_21[0][0]']              \n",
            " ormalization)                                                                                    \n",
            "                                                                                                  \n",
            " activation_20 (Activation)     (None, 50, 50, 64)   0           ['batch_normalization_21[0][0]'] \n",
            "                                                                                                  \n",
            " conv2d_22 (Conv2D)             (None, 50, 50, 64)   36864       ['activation_20[0][0]']          \n",
            "                                                                                                  \n",
            " batch_normalization_22 (BatchN  (None, 50, 50, 64)  256         ['conv2d_22[0][0]']              \n",
            " ormalization)                                                                                    \n",
            "                                                                                                  \n",
            " activation_21 (Activation)     (None, 50, 50, 64)   0           ['batch_normalization_22[0][0]'] \n",
            "                                                                                                  \n",
            " conv2d_23 (Conv2D)             (None, 50, 50, 256)  16384       ['activation_21[0][0]']          \n",
            "                                                                                                  \n",
            " add_6 (Add)                    (None, 50, 50, 256)  0           ['conv2d_23[0][0]',              \n",
            "                                                                  'add_5[0][0]']                  \n",
            "                                                                                                  \n",
            " batch_normalization_23 (BatchN  (None, 50, 50, 256)  1024       ['add_6[0][0]']                  \n",
            " ormalization)                                                                                    \n",
            "                                                                                                  \n",
            " activation_22 (Activation)     (None, 50, 50, 256)  0           ['batch_normalization_23[0][0]'] \n",
            "                                                                                                  \n",
            " conv2d_24 (Conv2D)             (None, 50, 50, 128)  32768       ['activation_22[0][0]']          \n",
            "                                                                                                  \n",
            " batch_normalization_24 (BatchN  (None, 50, 50, 128)  512        ['conv2d_24[0][0]']              \n",
            " ormalization)                                                                                    \n",
            "                                                                                                  \n",
            " activation_23 (Activation)     (None, 50, 50, 128)  0           ['batch_normalization_24[0][0]'] \n",
            "                                                                                                  \n",
            " conv2d_25 (Conv2D)             (None, 25, 25, 128)  147456      ['activation_23[0][0]']          \n",
            "                                                                                                  \n",
            " batch_normalization_25 (BatchN  (None, 25, 25, 128)  512        ['conv2d_25[0][0]']              \n",
            " ormalization)                                                                                    \n",
            "                                                                                                  \n",
            " activation_24 (Activation)     (None, 25, 25, 128)  0           ['batch_normalization_25[0][0]'] \n",
            "                                                                                                  \n",
            " conv2d_26 (Conv2D)             (None, 25, 25, 512)  65536       ['activation_24[0][0]']          \n",
            "                                                                                                  \n",
            " conv2d_27 (Conv2D)             (None, 25, 25, 512)  131072      ['activation_22[0][0]']          \n",
            "                                                                                                  \n",
            " add_7 (Add)                    (None, 25, 25, 512)  0           ['conv2d_26[0][0]',              \n",
            "                                                                  'conv2d_27[0][0]']              \n",
            "                                                                                                  \n",
            " batch_normalization_26 (BatchN  (None, 25, 25, 512)  2048       ['add_7[0][0]']                  \n",
            " ormalization)                                                                                    \n",
            "                                                                                                  \n",
            " activation_25 (Activation)     (None, 25, 25, 512)  0           ['batch_normalization_26[0][0]'] \n",
            "                                                                                                  \n",
            " conv2d_28 (Conv2D)             (None, 25, 25, 128)  65536       ['activation_25[0][0]']          \n",
            "                                                                                                  \n",
            " batch_normalization_27 (BatchN  (None, 25, 25, 128)  512        ['conv2d_28[0][0]']              \n",
            " ormalization)                                                                                    \n",
            "                                                                                                  \n",
            " activation_26 (Activation)     (None, 25, 25, 128)  0           ['batch_normalization_27[0][0]'] \n",
            "                                                                                                  \n",
            " conv2d_29 (Conv2D)             (None, 25, 25, 128)  147456      ['activation_26[0][0]']          \n",
            "                                                                                                  \n",
            " batch_normalization_28 (BatchN  (None, 25, 25, 128)  512        ['conv2d_29[0][0]']              \n",
            " ormalization)                                                                                    \n",
            "                                                                                                  \n",
            " activation_27 (Activation)     (None, 25, 25, 128)  0           ['batch_normalization_28[0][0]'] \n",
            "                                                                                                  \n",
            " conv2d_30 (Conv2D)             (None, 25, 25, 512)  65536       ['activation_27[0][0]']          \n",
            "                                                                                                  \n",
            " add_8 (Add)                    (None, 25, 25, 512)  0           ['conv2d_30[0][0]',              \n",
            "                                                                  'add_7[0][0]']                  \n",
            "                                                                                                  \n",
            " batch_normalization_29 (BatchN  (None, 25, 25, 512)  2048       ['add_8[0][0]']                  \n",
            " ormalization)                                                                                    \n",
            "                                                                                                  \n",
            " activation_28 (Activation)     (None, 25, 25, 512)  0           ['batch_normalization_29[0][0]'] \n",
            "                                                                                                  \n",
            " conv2d_31 (Conv2D)             (None, 25, 25, 128)  65536       ['activation_28[0][0]']          \n",
            "                                                                                                  \n",
            " batch_normalization_30 (BatchN  (None, 25, 25, 128)  512        ['conv2d_31[0][0]']              \n",
            " ormalization)                                                                                    \n",
            "                                                                                                  \n",
            " activation_29 (Activation)     (None, 25, 25, 128)  0           ['batch_normalization_30[0][0]'] \n",
            "                                                                                                  \n",
            " conv2d_32 (Conv2D)             (None, 25, 25, 128)  147456      ['activation_29[0][0]']          \n",
            "                                                                                                  \n",
            " batch_normalization_31 (BatchN  (None, 25, 25, 128)  512        ['conv2d_32[0][0]']              \n",
            " ormalization)                                                                                    \n",
            "                                                                                                  \n",
            " activation_30 (Activation)     (None, 25, 25, 128)  0           ['batch_normalization_31[0][0]'] \n",
            "                                                                                                  \n",
            " conv2d_33 (Conv2D)             (None, 25, 25, 512)  65536       ['activation_30[0][0]']          \n",
            "                                                                                                  \n",
            " add_9 (Add)                    (None, 25, 25, 512)  0           ['conv2d_33[0][0]',              \n",
            "                                                                  'add_8[0][0]']                  \n",
            "                                                                                                  \n",
            " batch_normalization_32 (BatchN  (None, 25, 25, 512)  2048       ['add_9[0][0]']                  \n",
            " ormalization)                                                                                    \n",
            "                                                                                                  \n",
            " activation_31 (Activation)     (None, 25, 25, 512)  0           ['batch_normalization_32[0][0]'] \n",
            "                                                                                                  \n",
            " conv2d_34 (Conv2D)             (None, 25, 25, 128)  65536       ['activation_31[0][0]']          \n",
            "                                                                                                  \n",
            " batch_normalization_33 (BatchN  (None, 25, 25, 128)  512        ['conv2d_34[0][0]']              \n",
            " ormalization)                                                                                    \n",
            "                                                                                                  \n",
            " activation_32 (Activation)     (None, 25, 25, 128)  0           ['batch_normalization_33[0][0]'] \n",
            "                                                                                                  \n",
            " conv2d_35 (Conv2D)             (None, 25, 25, 128)  147456      ['activation_32[0][0]']          \n",
            "                                                                                                  \n",
            " batch_normalization_34 (BatchN  (None, 25, 25, 128)  512        ['conv2d_35[0][0]']              \n",
            " ormalization)                                                                                    \n",
            "                                                                                                  \n",
            " activation_33 (Activation)     (None, 25, 25, 128)  0           ['batch_normalization_34[0][0]'] \n",
            "                                                                                                  \n",
            " conv2d_36 (Conv2D)             (None, 25, 25, 512)  65536       ['activation_33[0][0]']          \n",
            "                                                                                                  \n",
            " add_10 (Add)                   (None, 25, 25, 512)  0           ['conv2d_36[0][0]',              \n",
            "                                                                  'add_9[0][0]']                  \n",
            "                                                                                                  \n",
            " batch_normalization_35 (BatchN  (None, 25, 25, 512)  2048       ['add_10[0][0]']                 \n",
            " ormalization)                                                                                    \n",
            "                                                                                                  \n",
            " activation_34 (Activation)     (None, 25, 25, 512)  0           ['batch_normalization_35[0][0]'] \n",
            "                                                                                                  \n",
            " conv2d_37 (Conv2D)             (None, 25, 25, 128)  65536       ['activation_34[0][0]']          \n",
            "                                                                                                  \n",
            " batch_normalization_36 (BatchN  (None, 25, 25, 128)  512        ['conv2d_37[0][0]']              \n",
            " ormalization)                                                                                    \n",
            "                                                                                                  \n",
            " activation_35 (Activation)     (None, 25, 25, 128)  0           ['batch_normalization_36[0][0]'] \n",
            "                                                                                                  \n",
            " conv2d_38 (Conv2D)             (None, 25, 25, 128)  147456      ['activation_35[0][0]']          \n",
            "                                                                                                  \n",
            " batch_normalization_37 (BatchN  (None, 25, 25, 128)  512        ['conv2d_38[0][0]']              \n",
            " ormalization)                                                                                    \n",
            "                                                                                                  \n",
            " activation_36 (Activation)     (None, 25, 25, 128)  0           ['batch_normalization_37[0][0]'] \n",
            "                                                                                                  \n",
            " conv2d_39 (Conv2D)             (None, 25, 25, 512)  65536       ['activation_36[0][0]']          \n",
            "                                                                                                  \n",
            " add_11 (Add)                   (None, 25, 25, 512)  0           ['conv2d_39[0][0]',              \n",
            "                                                                  'add_10[0][0]']                 \n",
            "                                                                                                  \n",
            " batch_normalization_38 (BatchN  (None, 25, 25, 512)  2048       ['add_11[0][0]']                 \n",
            " ormalization)                                                                                    \n",
            "                                                                                                  \n",
            " activation_37 (Activation)     (None, 25, 25, 512)  0           ['batch_normalization_38[0][0]'] \n",
            "                                                                                                  \n",
            " conv2d_40 (Conv2D)             (None, 25, 25, 128)  65536       ['activation_37[0][0]']          \n",
            "                                                                                                  \n",
            " batch_normalization_39 (BatchN  (None, 25, 25, 128)  512        ['conv2d_40[0][0]']              \n",
            " ormalization)                                                                                    \n",
            "                                                                                                  \n",
            " activation_38 (Activation)     (None, 25, 25, 128)  0           ['batch_normalization_39[0][0]'] \n",
            "                                                                                                  \n",
            " conv2d_41 (Conv2D)             (None, 25, 25, 128)  147456      ['activation_38[0][0]']          \n",
            "                                                                                                  \n",
            " batch_normalization_40 (BatchN  (None, 25, 25, 128)  512        ['conv2d_41[0][0]']              \n",
            " ormalization)                                                                                    \n",
            "                                                                                                  \n",
            " activation_39 (Activation)     (None, 25, 25, 128)  0           ['batch_normalization_40[0][0]'] \n",
            "                                                                                                  \n",
            " conv2d_42 (Conv2D)             (None, 25, 25, 512)  65536       ['activation_39[0][0]']          \n",
            "                                                                                                  \n",
            " add_12 (Add)                   (None, 25, 25, 512)  0           ['conv2d_42[0][0]',              \n",
            "                                                                  'add_11[0][0]']                 \n",
            "                                                                                                  \n",
            " batch_normalization_41 (BatchN  (None, 25, 25, 512)  2048       ['add_12[0][0]']                 \n",
            " ormalization)                                                                                    \n",
            "                                                                                                  \n",
            " activation_40 (Activation)     (None, 25, 25, 512)  0           ['batch_normalization_41[0][0]'] \n",
            "                                                                                                  \n",
            " average_pooling2d (AveragePool  (None, 3, 3, 512)   0           ['activation_40[0][0]']          \n",
            " ing2D)                                                                                           \n",
            "                                                                                                  \n",
            " flatten (Flatten)              (None, 4608)         0           ['average_pooling2d[0][0]']      \n",
            "                                                                                                  \n",
            " dense (Dense)                  (None, 2)            9218        ['flatten[0][0]']                \n",
            "                                                                                                  \n",
            " activation_41 (Activation)     (None, 2)            0           ['dense[0][0]']                  \n",
            "                                                                                                  \n",
            "==================================================================================================\n",
            "Total params: 2,172,366\n",
            "Trainable params: 2,158,664\n",
            "Non-trainable params: 13,702\n",
            "__________________________________________________________________________________________________\n"
          ]
        }
      ]
    },
    {
      "cell_type": "code",
      "source": [
        "from keras.utils.vis_utils import plot_model\n",
        "plot_model(resnet, to_file='resnet.png', show_shapes=True, show_layer_names=True)"
      ],
      "metadata": {
        "id": "BpFtkOL-1bJL"
      },
      "execution_count": null,
      "outputs": []
    },
    {
      "cell_type": "code",
      "source": [
        "%pip install -q wandb\n",
        "import wandb\n",
        "from wandb.keras import WandbCallback\n",
        "wandb.login()"
      ],
      "metadata": {
        "colab": {
          "base_uri": "https://localhost:8080/",
          "height": 277
        },
        "id": "awJiY9Qr2bCK",
        "outputId": "aa654c7e-f213-4fbc-dac5-c0d3f59946b1"
      },
      "execution_count": null,
      "outputs": [
        {
          "output_type": "stream",
          "name": "stdout",
          "text": [
            "\u001b[K     |████████████████████████████████| 1.8 MB 8.4 MB/s \n",
            "\u001b[K     |████████████████████████████████| 181 kB 63.0 MB/s \n",
            "\u001b[K     |████████████████████████████████| 157 kB 73.9 MB/s \n",
            "\u001b[K     |████████████████████████████████| 63 kB 2.3 MB/s \n",
            "\u001b[K     |████████████████████████████████| 157 kB 74.0 MB/s \n",
            "\u001b[K     |████████████████████████████████| 157 kB 64.1 MB/s \n",
            "\u001b[K     |████████████████████████████████| 157 kB 77.9 MB/s \n",
            "\u001b[K     |████████████████████████████████| 156 kB 76.3 MB/s \n",
            "\u001b[?25h  Building wheel for pathtools (setup.py) ... \u001b[?25l\u001b[?25hdone\n"
          ]
        },
        {
          "output_type": "display_data",
          "data": {
            "text/plain": [
              "<IPython.core.display.Javascript object>"
            ],
            "application/javascript": [
              "\n",
              "        window._wandbApiKey = new Promise((resolve, reject) => {\n",
              "            function loadScript(url) {\n",
              "            return new Promise(function(resolve, reject) {\n",
              "                let newScript = document.createElement(\"script\");\n",
              "                newScript.onerror = reject;\n",
              "                newScript.onload = resolve;\n",
              "                document.body.appendChild(newScript);\n",
              "                newScript.src = url;\n",
              "            });\n",
              "            }\n",
              "            loadScript(\"https://cdn.jsdelivr.net/npm/postmate/build/postmate.min.js\").then(() => {\n",
              "            const iframe = document.createElement('iframe')\n",
              "            iframe.style.cssText = \"width:0;height:0;border:none\"\n",
              "            document.body.appendChild(iframe)\n",
              "            const handshake = new Postmate({\n",
              "                container: iframe,\n",
              "                url: 'https://wandb.ai/authorize'\n",
              "            });\n",
              "            const timeout = setTimeout(() => reject(\"Couldn't auto authenticate\"), 5000)\n",
              "            handshake.then(function(child) {\n",
              "                child.on('authorize', data => {\n",
              "                    clearTimeout(timeout)\n",
              "                    resolve(data)\n",
              "                });\n",
              "            });\n",
              "            })\n",
              "        });\n",
              "    "
            ]
          },
          "metadata": {}
        },
        {
          "output_type": "stream",
          "name": "stderr",
          "text": [
            "\u001b[34m\u001b[1mwandb\u001b[0m: Logging into wandb.ai. (Learn how to deploy a W&B server locally: https://wandb.me/wandb-server)\n",
            "\u001b[34m\u001b[1mwandb\u001b[0m: You can find your API key in your browser here: https://wandb.ai/authorize\n",
            "wandb: Paste an API key from your profile and hit enter, or press ctrl+c to quit: "
          ]
        },
        {
          "name": "stdout",
          "output_type": "stream",
          "text": [
            "··········\n"
          ]
        },
        {
          "output_type": "stream",
          "name": "stderr",
          "text": [
            "\u001b[34m\u001b[1mwandb\u001b[0m: Appending key for api.wandb.ai to your netrc file: /root/.netrc\n"
          ]
        },
        {
          "output_type": "execute_result",
          "data": {
            "text/plain": [
              "True"
            ]
          },
          "metadata": {},
          "execution_count": 8
        }
      ]
    },
    {
      "cell_type": "code",
      "source": [
        "wandb.init(project=\"resnet\")"
      ],
      "metadata": {
        "colab": {
          "base_uri": "https://localhost:8080/",
          "height": 108
        },
        "id": "fQHBH9942ed9",
        "outputId": "79fbf6e0-2451-440d-a40f-1bc489441a38"
      },
      "execution_count": null,
      "outputs": [
        {
          "output_type": "stream",
          "name": "stderr",
          "text": [
            "\u001b[34m\u001b[1mwandb\u001b[0m: Currently logged in as: \u001b[33mishan-f\u001b[0m. Use \u001b[1m`wandb login --relogin`\u001b[0m to force relogin\n"
          ]
        },
        {
          "output_type": "display_data",
          "data": {
            "text/plain": [
              "<IPython.core.display.HTML object>"
            ],
            "text/html": [
              "Tracking run with wandb version 0.13.1"
            ]
          },
          "metadata": {}
        },
        {
          "output_type": "display_data",
          "data": {
            "text/plain": [
              "<IPython.core.display.HTML object>"
            ],
            "text/html": [
              "Run data is saved locally in <code>/content/wandb/run-20220812_015912-o6et144k</code>"
            ]
          },
          "metadata": {}
        },
        {
          "output_type": "display_data",
          "data": {
            "text/plain": [
              "<IPython.core.display.HTML object>"
            ],
            "text/html": [
              "Syncing run <strong><a href=\"https://wandb.ai/ishan-f/resnet/runs/o6et144k\" target=\"_blank\">genial-plasma-4</a></strong> to <a href=\"https://wandb.ai/ishan-f/resnet\" target=\"_blank\">Weights & Biases</a> (<a href=\"https://wandb.me/run\" target=\"_blank\">docs</a>)<br/>"
            ]
          },
          "metadata": {}
        },
        {
          "output_type": "execute_result",
          "data": {
            "text/html": [
              "<button onClick=\"this.nextSibling.style.display='block';this.style.display='none';\">Display W&B run</button><iframe src=\"https://wandb.ai/ishan-f/resnet/runs/o6et144k?jupyter=true\" style=\"border:none;width:100%;height:420px;display:none;\"></iframe>"
            ],
            "text/plain": [
              "<wandb.sdk.wandb_run.Run at 0x7f8036ed9290>"
            ]
          },
          "metadata": {},
          "execution_count": 9
        }
      ]
    },
    {
      "cell_type": "code",
      "source": [
        "opt = tf.keras.optimizers.Adam(learning_rate=0.01)\n",
        "resnet.compile(\n",
        "        optimizer=\"adam\", loss=\"categorical_crossentropy\", metrics=[\"accuracy\"]\n",
        "    )\n",
        "\n",
        "#print(tf.keras.utils.plot_model(model))\n",
        "hist=resnet.fit(train, validation_data = valid, epochs = 100, batch_size = 32,callbacks=[WandbCallback()])"
      ],
      "metadata": {
        "colab": {
          "base_uri": "https://localhost:8080/"
        },
        "id": "AaE-_1MB2hHL",
        "outputId": "4c1c6b29-8eb0-432c-9c76-88ae211079b1"
      },
      "execution_count": null,
      "outputs": [
        {
          "output_type": "stream",
          "name": "stderr",
          "text": [
            "\u001b[34m\u001b[1mwandb\u001b[0m: \u001b[33mWARNING\u001b[0m The save_model argument by default saves the model in the HDF5 format that cannot save custom objects like subclassed models and custom layers. This behavior will be deprecated in a future release in favor of the SavedModel format. Meanwhile, the HDF5 model is saved as W&B files and the SavedModel as W&B Artifacts.\n",
            "WARNING:tensorflow:From /usr/local/lib/python3.7/dist-packages/tensorflow/python/ops/nn_ops.py:5214: tensor_shape_from_node_def_name (from tensorflow.python.framework.graph_util_impl) is deprecated and will be removed in a future version.\n",
            "Instructions for updating:\n",
            "Use `tf.compat.v1.graph_util.tensor_shape_from_node_def_name`\n"
          ]
        },
        {
          "output_type": "stream",
          "name": "stdout",
          "text": [
            "Epoch 1/100\n",
            "81/81 [==============================] - ETA: 0s - loss: 1.1234 - accuracy: 0.7146"
          ]
        },
        {
          "output_type": "stream",
          "name": "stderr",
          "text": [
            "\u001b[34m\u001b[1mwandb\u001b[0m: Adding directory to artifact (/content/wandb/run-20220812_015912-o6et144k/files/model-best)... Done. 0.2s\n"
          ]
        },
        {
          "output_type": "stream",
          "name": "stdout",
          "text": [
            "\b\b\b\b\b\b\b\b\b\b\b\b\b\b\b\b\b\b\b\b\b\b\b\b\b\b\b\b\b\b\b\b\b\b\b\b\b\b\b\b\b\b\b\b\b\b\b\b\b\b\b\b\b\b\b\b\b\b\b\b\b\b\b\b\b\b\b\b\b\b\b\b\b\b\b\b\b\b\b\b\b\b\r81/81 [==============================] - 352s 4s/step - loss: 1.1234 - accuracy: 0.7146 - val_loss: 0.9492 - val_accuracy: 0.8505\n",
            "Epoch 2/100\n",
            "81/81 [==============================] - ETA: 0s - loss: 0.8521 - accuracy: 0.8563"
          ]
        },
        {
          "output_type": "stream",
          "name": "stderr",
          "text": [
            "\u001b[34m\u001b[1mwandb\u001b[0m: Adding directory to artifact (/content/wandb/run-20220812_015912-o6et144k/files/model-best)... Done. 0.2s\n"
          ]
        },
        {
          "output_type": "stream",
          "name": "stdout",
          "text": [
            "\b\b\b\b\b\b\b\b\b\b\b\b\b\b\b\b\b\b\b\b\b\b\b\b\b\b\b\b\b\b\b\b\b\b\b\b\b\b\b\b\b\b\b\b\b\b\b\b\b\b\b\b\b\b\b\b\b\b\b\b\b\b\b\b\b\b\b\b\b\b\b\b\b\b\b\b\b\b\b\b\b\b\r81/81 [==============================] - 54s 660ms/step - loss: 0.8521 - accuracy: 0.8563 - val_loss: 0.8562 - val_accuracy: 0.8551\n",
            "Epoch 3/100\n",
            "81/81 [==============================] - ETA: 0s - loss: 0.7449 - accuracy: 0.9015"
          ]
        },
        {
          "output_type": "stream",
          "name": "stderr",
          "text": [
            "\u001b[34m\u001b[1mwandb\u001b[0m: Adding directory to artifact (/content/wandb/run-20220812_015912-o6et144k/files/model-best)... Done. 0.2s\n"
          ]
        },
        {
          "output_type": "stream",
          "name": "stdout",
          "text": [
            "\b\b\b\b\b\b\b\b\b\b\b\b\b\b\b\b\b\b\b\b\b\b\b\b\b\b\b\b\b\b\b\b\b\b\b\b\b\b\b\b\b\b\b\b\b\b\b\b\b\b\b\b\b\b\b\b\b\b\b\b\b\b\b\b\b\b\b\b\b\b\b\b\b\b\b\b\b\b\b\b\b\b\r81/81 [==============================] - 54s 664ms/step - loss: 0.7449 - accuracy: 0.9015 - val_loss: 0.7600 - val_accuracy: 0.9128\n",
            "Epoch 4/100\n",
            "81/81 [==============================] - ETA: 0s - loss: 0.7252 - accuracy: 0.8941"
          ]
        },
        {
          "output_type": "stream",
          "name": "stderr",
          "text": [
            "\u001b[34m\u001b[1mwandb\u001b[0m: Adding directory to artifact (/content/wandb/run-20220812_015912-o6et144k/files/model-best)... Done. 0.2s\n"
          ]
        },
        {
          "output_type": "stream",
          "name": "stdout",
          "text": [
            "\b\b\b\b\b\b\b\b\b\b\b\b\b\b\b\b\b\b\b\b\b\b\b\b\b\b\b\b\b\b\b\b\b\b\b\b\b\b\b\b\b\b\b\b\b\b\b\b\b\b\b\b\b\b\b\b\b\b\b\b\b\b\b\b\b\b\b\b\b\b\b\b\b\b\b\b\b\b\b\b\b\b\r81/81 [==============================] - 53s 649ms/step - loss: 0.7252 - accuracy: 0.8941 - val_loss: 0.6705 - val_accuracy: 0.9003\n",
            "Epoch 5/100\n",
            "81/81 [==============================] - ETA: 0s - loss: 0.6330 - accuracy: 0.9229"
          ]
        },
        {
          "output_type": "stream",
          "name": "stderr",
          "text": [
            "\u001b[34m\u001b[1mwandb\u001b[0m: Adding directory to artifact (/content/wandb/run-20220812_015912-o6et144k/files/model-best)... Done. 0.2s\n"
          ]
        },
        {
          "output_type": "stream",
          "name": "stdout",
          "text": [
            "\b\b\b\b\b\b\b\b\b\b\b\b\b\b\b\b\b\b\b\b\b\b\b\b\b\b\b\b\b\b\b\b\b\b\b\b\b\b\b\b\b\b\b\b\b\b\b\b\b\b\b\b\b\b\b\b\b\b\b\b\b\b\b\b\b\b\b\b\b\b\b\b\b\b\b\b\b\b\b\b\b\b\r81/81 [==============================] - 54s 657ms/step - loss: 0.6330 - accuracy: 0.9229 - val_loss: 0.6202 - val_accuracy: 0.9283\n",
            "Epoch 6/100\n",
            "81/81 [==============================] - 38s 452ms/step - loss: 0.5897 - accuracy: 0.9221 - val_loss: 0.8069 - val_accuracy: 0.8069\n",
            "Epoch 7/100\n",
            "81/81 [==============================] - ETA: 0s - loss: 0.5806 - accuracy: 0.9143"
          ]
        },
        {
          "output_type": "stream",
          "name": "stderr",
          "text": [
            "\u001b[34m\u001b[1mwandb\u001b[0m: Adding directory to artifact (/content/wandb/run-20220812_015912-o6et144k/files/model-best)... Done. 0.3s\n"
          ]
        },
        {
          "output_type": "stream",
          "name": "stdout",
          "text": [
            "\b\b\b\b\b\b\b\b\b\b\b\b\b\b\b\b\b\b\b\b\b\b\b\b\b\b\b\b\b\b\b\b\b\b\b\b\b\b\b\b\b\b\b\b\b\b\b\b\b\b\b\b\b\b\b\b\b\b\b\b\b\b\b\b\b\b\b\b\b\b\b\b\b\b\b\b\b\b\b\b\b\b\r81/81 [==============================] - 53s 647ms/step - loss: 0.5806 - accuracy: 0.9143 - val_loss: 0.6181 - val_accuracy: 0.8832\n",
            "Epoch 8/100\n",
            "81/81 [==============================] - ETA: 0s - loss: 0.4875 - accuracy: 0.9443"
          ]
        },
        {
          "output_type": "stream",
          "name": "stderr",
          "text": [
            "\u001b[34m\u001b[1mwandb\u001b[0m: Adding directory to artifact (/content/wandb/run-20220812_015912-o6et144k/files/model-best)... Done. 0.2s\n"
          ]
        },
        {
          "output_type": "stream",
          "name": "stdout",
          "text": [
            "\b\b\b\b\b\b\b\b\b\b\b\b\b\b\b\b\b\b\b\b\b\b\b\b\b\b\b\b\b\b\b\b\b\b\b\b\b\b\b\b\b\b\b\b\b\b\b\b\b\b\b\b\b\b\b\b\b\b\b\b\b\b\b\b\b\b\b\b\b\b\b\b\b\b\b\b\b\b\b\b\b\b\r81/81 [==============================] - 54s 653ms/step - loss: 0.4875 - accuracy: 0.9443 - val_loss: 0.5653 - val_accuracy: 0.9034\n",
            "Epoch 9/100\n",
            "81/81 [==============================] - ETA: 0s - loss: 0.4833 - accuracy: 0.9338"
          ]
        },
        {
          "output_type": "stream",
          "name": "stderr",
          "text": [
            "\u001b[34m\u001b[1mwandb\u001b[0m: Adding directory to artifact (/content/wandb/run-20220812_015912-o6et144k/files/model-best)... Done. 0.2s\n"
          ]
        },
        {
          "output_type": "stream",
          "name": "stdout",
          "text": [
            "\b\b\b\b\b\b\b\b\b\b\b\b\b\b\b\b\b\b\b\b\b\b\b\b\b\b\b\b\b\b\b\b\b\b\b\b\b\b\b\b\b\b\b\b\b\b\b\b\b\b\b\b\b\b\b\b\b\b\b\b\b\b\b\b\b\b\b\b\b\b\b\b\b\b\b\b\b\b\b\b\b\b\r81/81 [==============================] - 54s 653ms/step - loss: 0.4833 - accuracy: 0.9338 - val_loss: 0.5345 - val_accuracy: 0.9081\n",
            "Epoch 10/100\n",
            "81/81 [==============================] - 38s 451ms/step - loss: 0.4541 - accuracy: 0.9357 - val_loss: 0.5454 - val_accuracy: 0.8832\n",
            "Epoch 11/100\n",
            "81/81 [==============================] - 37s 450ms/step - loss: 0.4311 - accuracy: 0.9400 - val_loss: 0.6623 - val_accuracy: 0.8209\n",
            "Epoch 12/100\n",
            "81/81 [==============================] - ETA: 0s - loss: 0.3975 - accuracy: 0.9420"
          ]
        },
        {
          "output_type": "stream",
          "name": "stderr",
          "text": [
            "\u001b[34m\u001b[1mwandb\u001b[0m: Adding directory to artifact (/content/wandb/run-20220812_015912-o6et144k/files/model-best)... Done. 0.2s\n"
          ]
        },
        {
          "output_type": "stream",
          "name": "stdout",
          "text": [
            "\b\b\b\b\b\b\b\b\b\b\b\b\b\b\b\b\b\b\b\b\b\b\b\b\b\b\b\b\b\b\b\b\b\b\b\b\b\b\b\b\b\b\b\b\b\b\b\b\b\b\b\b\b\b\b\b\b\b\b\b\b\b\b\b\b\b\b\b\b\b\b\b\b\b\b\b\b\b\b\b\b\b\r81/81 [==============================] - 54s 658ms/step - loss: 0.3975 - accuracy: 0.9420 - val_loss: 0.4602 - val_accuracy: 0.9143\n",
            "Epoch 13/100\n",
            "81/81 [==============================] - ETA: 0s - loss: 0.3788 - accuracy: 0.9482"
          ]
        },
        {
          "output_type": "stream",
          "name": "stderr",
          "text": [
            "\u001b[34m\u001b[1mwandb\u001b[0m: Adding directory to artifact (/content/wandb/run-20220812_015912-o6et144k/files/model-best)... Done. 0.2s\n"
          ]
        },
        {
          "output_type": "stream",
          "name": "stdout",
          "text": [
            "\b\b\b\b\b\b\b\b\b\b\b\b\b\b\b\b\b\b\b\b\b\b\b\b\b\b\b\b\b\b\b\b\b\b\b\b\b\b\b\b\b\b\b\b\b\b\b\b\b\b\b\b\b\b\b\b\b\b\b\b\b\b\b\b\b\b\b\b\b\b\b\b\b\b\b\b\b\b\b\b\b\b\r81/81 [==============================] - 54s 652ms/step - loss: 0.3788 - accuracy: 0.9482 - val_loss: 0.4312 - val_accuracy: 0.9190\n",
            "Epoch 14/100\n",
            "81/81 [==============================] - ETA: 0s - loss: 0.3606 - accuracy: 0.9486"
          ]
        },
        {
          "output_type": "stream",
          "name": "stderr",
          "text": [
            "\u001b[34m\u001b[1mwandb\u001b[0m: Adding directory to artifact (/content/wandb/run-20220812_015912-o6et144k/files/model-best)... Done. 0.2s\n"
          ]
        },
        {
          "output_type": "stream",
          "name": "stdout",
          "text": [
            "\b\b\b\b\b\b\b\b\b\b\b\b\b\b\b\b\b\b\b\b\b\b\b\b\b\b\b\b\b\b\b\b\b\b\b\b\b\b\b\b\b\b\b\b\b\b\b\b\b\b\b\b\b\b\b\b\b\b\b\b\b\b\b\b\b\b\b\b\b\b\b\b\b\b\b\b\b\b\b\b\b\b\r81/81 [==============================] - 54s 653ms/step - loss: 0.3606 - accuracy: 0.9486 - val_loss: 0.4283 - val_accuracy: 0.9174\n",
            "Epoch 15/100\n",
            "81/81 [==============================] - ETA: 0s - loss: 0.3225 - accuracy: 0.9521"
          ]
        },
        {
          "output_type": "stream",
          "name": "stderr",
          "text": [
            "\u001b[34m\u001b[1mwandb\u001b[0m: Adding directory to artifact (/content/wandb/run-20220812_015912-o6et144k/files/model-best)... Done. 0.2s\n"
          ]
        },
        {
          "output_type": "stream",
          "name": "stdout",
          "text": [
            "\b\b\b\b\b\b\b\b\b\b\b\b\b\b\b\b\b\b\b\b\b\b\b\b\b\b\b\b\b\b\b\b\b\b\b\b\b\b\b\b\b\b\b\b\b\b\b\b\b\b\b\b\b\b\b\b\b\b\b\b\b\b\b\b\b\b\b\b\b\b\b\b\b\b\b\b\b\b\b\b\b\b\r81/81 [==============================] - 53s 650ms/step - loss: 0.3225 - accuracy: 0.9521 - val_loss: 0.4261 - val_accuracy: 0.9097\n",
            "Epoch 16/100\n",
            "81/81 [==============================] - 38s 452ms/step - loss: 0.2996 - accuracy: 0.9587 - val_loss: 1.0267 - val_accuracy: 0.7118\n",
            "Epoch 17/100\n",
            "81/81 [==============================] - 38s 461ms/step - loss: 0.3576 - accuracy: 0.9354 - val_loss: 0.4350 - val_accuracy: 0.8894\n",
            "Epoch 18/100\n",
            "81/81 [==============================] - ETA: 0s - loss: 0.3154 - accuracy: 0.9439"
          ]
        },
        {
          "output_type": "stream",
          "name": "stderr",
          "text": [
            "\u001b[34m\u001b[1mwandb\u001b[0m: Adding directory to artifact (/content/wandb/run-20220812_015912-o6et144k/files/model-best)... Done. 0.2s\n"
          ]
        },
        {
          "output_type": "stream",
          "name": "stdout",
          "text": [
            "\b\b\b\b\b\b\b\b\b\b\b\b\b\b\b\b\b\b\b\b\b\b\b\b\b\b\b\b\b\b\b\b\b\b\b\b\b\b\b\b\b\b\b\b\b\b\b\b\b\b\b\b\b\b\b\b\b\b\b\b\b\b\b\b\b\b\b\b\b\b\b\b\b\b\b\b\b\b\b\b\b\b\r81/81 [==============================] - 53s 641ms/step - loss: 0.3154 - accuracy: 0.9439 - val_loss: 0.3544 - val_accuracy: 0.9346\n",
            "Epoch 19/100\n",
            "81/81 [==============================] - 38s 456ms/step - loss: 0.2836 - accuracy: 0.9548 - val_loss: 0.4090 - val_accuracy: 0.9174\n",
            "Epoch 20/100\n",
            "81/81 [==============================] - 37s 448ms/step - loss: 0.3397 - accuracy: 0.9291 - val_loss: 0.3954 - val_accuracy: 0.9081\n",
            "Epoch 21/100\n",
            "81/81 [==============================] - 37s 449ms/step - loss: 0.2658 - accuracy: 0.9572 - val_loss: 0.3577 - val_accuracy: 0.9237\n",
            "Epoch 22/100\n",
            "81/81 [==============================] - ETA: 0s - loss: 0.2440 - accuracy: 0.9622"
          ]
        },
        {
          "output_type": "stream",
          "name": "stderr",
          "text": [
            "\u001b[34m\u001b[1mwandb\u001b[0m: Adding directory to artifact (/content/wandb/run-20220812_015912-o6et144k/files/model-best)... Done. 0.2s\n"
          ]
        },
        {
          "output_type": "stream",
          "name": "stdout",
          "text": [
            "\b\b\b\b\b\b\b\b\b\b\b\b\b\b\b\b\b\b\b\b\b\b\b\b\b\b\b\b\b\b\b\b\b\b\b\b\b\b\b\b\b\b\b\b\b\b\b\b\b\b\b\b\b\b\b\b\b\b\b\b\b\b\b\b\b\b\b\b\b\b\b\b\b\b\b\b\b\b\b\b\b\b\r81/81 [==============================] - 53s 646ms/step - loss: 0.2440 - accuracy: 0.9622 - val_loss: 0.3480 - val_accuracy: 0.9237\n",
            "Epoch 23/100\n",
            "81/81 [==============================] - ETA: 0s - loss: 0.2252 - accuracy: 0.9661"
          ]
        },
        {
          "output_type": "stream",
          "name": "stderr",
          "text": [
            "\u001b[34m\u001b[1mwandb\u001b[0m: Adding directory to artifact (/content/wandb/run-20220812_015912-o6et144k/files/model-best)... Done. 0.2s\n"
          ]
        },
        {
          "output_type": "stream",
          "name": "stdout",
          "text": [
            "\b\b\b\b\b\b\b\b\b\b\b\b\b\b\b\b\b\b\b\b\b\b\b\b\b\b\b\b\b\b\b\b\b\b\b\b\b\b\b\b\b\b\b\b\b\b\b\b\b\b\b\b\b\b\b\b\b\b\b\b\b\b\b\b\b\b\b\b\b\b\b\b\b\b\b\b\b\b\b\b\b\b\r81/81 [==============================] - 53s 646ms/step - loss: 0.2252 - accuracy: 0.9661 - val_loss: 0.3390 - val_accuracy: 0.9268\n",
            "Epoch 24/100\n",
            "81/81 [==============================] - 38s 455ms/step - loss: 0.2660 - accuracy: 0.9470 - val_loss: 0.3436 - val_accuracy: 0.9206\n",
            "Epoch 25/100\n",
            "81/81 [==============================] - 37s 445ms/step - loss: 0.2326 - accuracy: 0.9603 - val_loss: 0.3874 - val_accuracy: 0.9206\n",
            "Epoch 26/100\n",
            "81/81 [==============================] - 38s 452ms/step - loss: 0.2362 - accuracy: 0.9568 - val_loss: 0.4529 - val_accuracy: 0.8707\n",
            "Epoch 27/100\n",
            "81/81 [==============================] - ETA: 0s - loss: 0.2268 - accuracy: 0.9603"
          ]
        },
        {
          "output_type": "stream",
          "name": "stderr",
          "text": [
            "\u001b[34m\u001b[1mwandb\u001b[0m: Adding directory to artifact (/content/wandb/run-20220812_015912-o6et144k/files/model-best)... Done. 0.2s\n"
          ]
        },
        {
          "output_type": "stream",
          "name": "stdout",
          "text": [
            "\b\b\b\b\b\b\b\b\b\b\b\b\b\b\b\b\b\b\b\b\b\b\b\b\b\b\b\b\b\b\b\b\b\b\b\b\b\b\b\b\b\b\b\b\b\b\b\b\b\b\b\b\b\b\b\b\b\b\b\b\b\b\b\b\b\b\b\b\b\b\b\b\b\b\b\b\b\b\b\b\b\b\r81/81 [==============================] - 53s 647ms/step - loss: 0.2268 - accuracy: 0.9603 - val_loss: 0.3206 - val_accuracy: 0.9206\n",
            "Epoch 28/100\n",
            "81/81 [==============================] - 38s 455ms/step - loss: 0.2349 - accuracy: 0.9572 - val_loss: 0.3263 - val_accuracy: 0.9330\n",
            "Epoch 29/100\n",
            "81/81 [==============================] - 37s 447ms/step - loss: 0.2604 - accuracy: 0.9424 - val_loss: 0.3382 - val_accuracy: 0.9112\n",
            "Epoch 30/100\n",
            "81/81 [==============================] - 38s 452ms/step - loss: 0.1844 - accuracy: 0.9739 - val_loss: 0.3225 - val_accuracy: 0.9174\n",
            "Epoch 31/100\n",
            "81/81 [==============================] - 37s 448ms/step - loss: 0.1792 - accuracy: 0.9735 - val_loss: 0.3489 - val_accuracy: 0.9143\n",
            "Epoch 32/100\n",
            "81/81 [==============================] - 37s 449ms/step - loss: 0.1919 - accuracy: 0.9677 - val_loss: 0.4190 - val_accuracy: 0.8972\n",
            "Epoch 33/100\n",
            "81/81 [==============================] - 37s 448ms/step - loss: 0.1687 - accuracy: 0.9774 - val_loss: 0.4219 - val_accuracy: 0.8801\n",
            "Epoch 34/100\n",
            "81/81 [==============================] - 37s 448ms/step - loss: 0.1853 - accuracy: 0.9688 - val_loss: 0.5480 - val_accuracy: 0.8131\n",
            "Epoch 35/100\n",
            "81/81 [==============================] - 37s 448ms/step - loss: 0.1855 - accuracy: 0.9739 - val_loss: 0.4289 - val_accuracy: 0.8754\n",
            "Epoch 36/100\n",
            "81/81 [==============================] - 37s 447ms/step - loss: 0.1797 - accuracy: 0.9727 - val_loss: 0.3555 - val_accuracy: 0.9128\n",
            "Epoch 37/100\n",
            "81/81 [==============================] - ETA: 0s - loss: 0.1649 - accuracy: 0.9782"
          ]
        },
        {
          "output_type": "stream",
          "name": "stderr",
          "text": [
            "\u001b[34m\u001b[1mwandb\u001b[0m: Adding directory to artifact (/content/wandb/run-20220812_015912-o6et144k/files/model-best)... Done. 0.2s\n"
          ]
        },
        {
          "output_type": "stream",
          "name": "stdout",
          "text": [
            "\b\b\b\b\b\b\b\b\b\b\b\b\b\b\b\b\b\b\b\b\b\b\b\b\b\b\b\b\b\b\b\b\b\b\b\b\b\b\b\b\b\b\b\b\b\b\b\b\b\b\b\b\b\b\b\b\b\b\b\b\b\b\b\b\b\b\b\b\b\b\b\b\b\b\b\b\b\b\b\b\b\b\r81/81 [==============================] - 53s 643ms/step - loss: 0.1649 - accuracy: 0.9782 - val_loss: 0.3118 - val_accuracy: 0.9143\n",
            "Epoch 38/100\n",
            "81/81 [==============================] - 38s 455ms/step - loss: 0.1349 - accuracy: 0.9836 - val_loss: 0.3376 - val_accuracy: 0.9190\n",
            "Epoch 39/100\n",
            "81/81 [==============================] - 37s 448ms/step - loss: 0.1451 - accuracy: 0.9833 - val_loss: 0.4323 - val_accuracy: 0.8925\n",
            "Epoch 40/100\n",
            "81/81 [==============================] - 37s 446ms/step - loss: 0.2871 - accuracy: 0.9346 - val_loss: 0.3399 - val_accuracy: 0.9112\n",
            "Epoch 41/100\n",
            "81/81 [==============================] - 37s 447ms/step - loss: 0.2190 - accuracy: 0.9599 - val_loss: 0.3714 - val_accuracy: 0.8863\n",
            "Epoch 42/100\n",
            "81/81 [==============================] - ETA: 0s - loss: 0.2098 - accuracy: 0.9595"
          ]
        },
        {
          "output_type": "stream",
          "name": "stderr",
          "text": [
            "\u001b[34m\u001b[1mwandb\u001b[0m: Adding directory to artifact (/content/wandb/run-20220812_015912-o6et144k/files/model-best)... Done. 0.2s\n"
          ]
        },
        {
          "output_type": "stream",
          "name": "stdout",
          "text": [
            "\b\b\b\b\b\b\b\b\b\b\b\b\b\b\b\b\b\b\b\b\b\b\b\b\b\b\b\b\b\b\b\b\b\b\b\b\b\b\b\b\b\b\b\b\b\b\b\b\b\b\b\b\b\b\b\b\b\b\b\b\b\b\b\b\b\b\b\b\b\b\b\b\b\b\b\b\b\b\b\b\b\b\r81/81 [==============================] - 53s 640ms/step - loss: 0.2098 - accuracy: 0.9595 - val_loss: 0.3038 - val_accuracy: 0.9174\n",
            "Epoch 43/100\n",
            "81/81 [==============================] - ETA: 0s - loss: 0.1678 - accuracy: 0.9739"
          ]
        },
        {
          "output_type": "stream",
          "name": "stderr",
          "text": [
            "\u001b[34m\u001b[1mwandb\u001b[0m: Adding directory to artifact (/content/wandb/run-20220812_015912-o6et144k/files/model-best)... Done. 0.2s\n"
          ]
        },
        {
          "output_type": "stream",
          "name": "stdout",
          "text": [
            "\b\b\b\b\b\b\b\b\b\b\b\b\b\b\b\b\b\b\b\b\b\b\b\b\b\b\b\b\b\b\b\b\b\b\b\b\b\b\b\b\b\b\b\b\b\b\b\b\b\b\b\b\b\b\b\b\b\b\b\b\b\b\b\b\b\b\b\b\b\b\b\b\b\b\b\b\b\b\b\b\b\b\r81/81 [==============================] - 53s 648ms/step - loss: 0.1678 - accuracy: 0.9739 - val_loss: 0.2922 - val_accuracy: 0.9252\n",
            "Epoch 44/100\n",
            "81/81 [==============================] - 37s 450ms/step - loss: 0.1418 - accuracy: 0.9798 - val_loss: 0.3643 - val_accuracy: 0.8863\n",
            "Epoch 45/100\n",
            "81/81 [==============================] - 38s 458ms/step - loss: 0.1343 - accuracy: 0.9821 - val_loss: 0.4208 - val_accuracy: 0.9003\n",
            "Epoch 46/100\n",
            "81/81 [==============================] - 37s 447ms/step - loss: 0.1142 - accuracy: 0.9895 - val_loss: 0.3943 - val_accuracy: 0.9081\n",
            "Epoch 47/100\n",
            "81/81 [==============================] - 37s 448ms/step - loss: 0.1374 - accuracy: 0.9786 - val_loss: 0.3669 - val_accuracy: 0.9237\n",
            "Epoch 48/100\n",
            "81/81 [==============================] - 37s 448ms/step - loss: 0.2749 - accuracy: 0.9350 - val_loss: 0.2941 - val_accuracy: 0.9268\n",
            "Epoch 49/100\n",
            "81/81 [==============================] - 37s 448ms/step - loss: 0.1588 - accuracy: 0.9735 - val_loss: 0.3952 - val_accuracy: 0.8910\n",
            "Epoch 50/100\n",
            "81/81 [==============================] - 37s 447ms/step - loss: 0.1519 - accuracy: 0.9774 - val_loss: 0.3457 - val_accuracy: 0.9112\n",
            "Epoch 51/100\n",
            "81/81 [==============================] - 37s 447ms/step - loss: 0.1286 - accuracy: 0.9829 - val_loss: 0.4145 - val_accuracy: 0.9221\n",
            "Epoch 52/100\n",
            "81/81 [==============================] - 37s 448ms/step - loss: 0.1544 - accuracy: 0.9759 - val_loss: 0.3362 - val_accuracy: 0.9174\n",
            "Epoch 53/100\n",
            "81/81 [==============================] - ETA: 0s - loss: 0.1912 - accuracy: 0.9595"
          ]
        },
        {
          "output_type": "stream",
          "name": "stderr",
          "text": [
            "\u001b[34m\u001b[1mwandb\u001b[0m: Adding directory to artifact (/content/wandb/run-20220812_015912-o6et144k/files/model-best)... Done. 0.2s\n"
          ]
        },
        {
          "output_type": "stream",
          "name": "stdout",
          "text": [
            "\b\b\b\b\b\b\b\b\b\b\b\b\b\b\b\b\b\b\b\b\b\b\b\b\b\b\b\b\b\b\b\b\b\b\b\b\b\b\b\b\b\b\b\b\b\b\b\b\b\b\b\b\b\b\b\b\b\b\b\b\b\b\b\b\b\b\b\b\b\b\b\b\b\b\b\b\b\b\b\b\b\b\r81/81 [==============================] - 54s 663ms/step - loss: 0.1912 - accuracy: 0.9595 - val_loss: 0.2878 - val_accuracy: 0.9299\n",
            "Epoch 54/100\n",
            "81/81 [==============================] - 38s 451ms/step - loss: 0.1615 - accuracy: 0.9743 - val_loss: 0.6828 - val_accuracy: 0.8302\n",
            "Epoch 55/100\n",
            "81/81 [==============================] - 38s 457ms/step - loss: 0.1986 - accuracy: 0.9568 - val_loss: 0.3163 - val_accuracy: 0.9097\n",
            "Epoch 56/100\n",
            "81/81 [==============================] - 37s 446ms/step - loss: 0.1566 - accuracy: 0.9743 - val_loss: 0.3662 - val_accuracy: 0.9050\n",
            "Epoch 57/100\n",
            "81/81 [==============================] - 37s 449ms/step - loss: 0.1577 - accuracy: 0.9743 - val_loss: 0.3137 - val_accuracy: 0.9237\n",
            "Epoch 58/100\n",
            "81/81 [==============================] - 37s 450ms/step - loss: 0.1195 - accuracy: 0.9875 - val_loss: 0.3396 - val_accuracy: 0.9221\n",
            "Epoch 59/100\n",
            "81/81 [==============================] - 37s 447ms/step - loss: 0.1020 - accuracy: 0.9899 - val_loss: 0.3234 - val_accuracy: 0.9206\n",
            "Epoch 60/100\n",
            "81/81 [==============================] - 37s 447ms/step - loss: 0.1002 - accuracy: 0.9891 - val_loss: 0.3443 - val_accuracy: 0.9315\n",
            "Epoch 61/100\n",
            "81/81 [==============================] - 37s 451ms/step - loss: 0.0958 - accuracy: 0.9899 - val_loss: 0.4176 - val_accuracy: 0.9206\n",
            "Epoch 62/100\n",
            "81/81 [==============================] - 37s 447ms/step - loss: 0.1287 - accuracy: 0.9782 - val_loss: 0.4490 - val_accuracy: 0.9268\n",
            "Epoch 63/100\n",
            "81/81 [==============================] - 37s 449ms/step - loss: 0.1481 - accuracy: 0.9743 - val_loss: 1.2933 - val_accuracy: 0.7461\n",
            "Epoch 64/100\n",
            "81/81 [==============================] - 37s 446ms/step - loss: 0.1106 - accuracy: 0.9860 - val_loss: 0.4237 - val_accuracy: 0.8956\n",
            "Epoch 65/100\n",
            "81/81 [==============================] - 37s 447ms/step - loss: 0.1091 - accuracy: 0.9856 - val_loss: 0.4773 - val_accuracy: 0.8925\n",
            "Epoch 66/100\n",
            "81/81 [==============================] - 37s 448ms/step - loss: 0.1668 - accuracy: 0.9688 - val_loss: 0.3164 - val_accuracy: 0.9050\n",
            "Epoch 67/100\n",
            "81/81 [==============================] - 37s 446ms/step - loss: 0.1174 - accuracy: 0.9856 - val_loss: 0.4189 - val_accuracy: 0.9065\n",
            "Epoch 68/100\n",
            "81/81 [==============================] - 37s 446ms/step - loss: 0.0933 - accuracy: 0.9914 - val_loss: 0.4078 - val_accuracy: 0.9128\n",
            "Epoch 69/100\n",
            "81/81 [==============================] - 37s 450ms/step - loss: 0.0984 - accuracy: 0.9875 - val_loss: 0.3840 - val_accuracy: 0.9112\n",
            "Epoch 70/100\n",
            "81/81 [==============================] - 37s 446ms/step - loss: 0.0989 - accuracy: 0.9879 - val_loss: 0.3605 - val_accuracy: 0.9361\n",
            "Epoch 71/100\n",
            "81/81 [==============================] - 37s 446ms/step - loss: 0.1419 - accuracy: 0.9790 - val_loss: 0.3753 - val_accuracy: 0.9237\n",
            "Epoch 72/100\n",
            "81/81 [==============================] - 37s 446ms/step - loss: 0.2878 - accuracy: 0.9268 - val_loss: 0.3092 - val_accuracy: 0.9159\n",
            "Epoch 73/100\n",
            "81/81 [==============================] - 38s 454ms/step - loss: 0.1941 - accuracy: 0.9611 - val_loss: 0.3089 - val_accuracy: 0.9097\n",
            "Epoch 74/100\n",
            "81/81 [==============================] - 37s 446ms/step - loss: 0.1534 - accuracy: 0.9727 - val_loss: 0.4171 - val_accuracy: 0.8738\n",
            "Epoch 75/100\n",
            "81/81 [==============================] - 37s 447ms/step - loss: 0.1180 - accuracy: 0.9860 - val_loss: 0.5745 - val_accuracy: 0.8676\n",
            "Epoch 76/100\n",
            "81/81 [==============================] - 37s 448ms/step - loss: 0.1764 - accuracy: 0.9661 - val_loss: 0.3794 - val_accuracy: 0.9221\n",
            "Epoch 77/100\n",
            "81/81 [==============================] - 37s 447ms/step - loss: 0.1405 - accuracy: 0.9755 - val_loss: 0.3785 - val_accuracy: 0.9065\n",
            "Epoch 78/100\n",
            "81/81 [==============================] - 37s 447ms/step - loss: 0.1135 - accuracy: 0.9860 - val_loss: 0.3013 - val_accuracy: 0.9315\n",
            "Epoch 79/100\n",
            "81/81 [==============================] - 37s 448ms/step - loss: 0.1049 - accuracy: 0.9887 - val_loss: 0.4912 - val_accuracy: 0.8894\n",
            "Epoch 80/100\n",
            "81/81 [==============================] - 37s 445ms/step - loss: 0.0909 - accuracy: 0.9914 - val_loss: 0.4010 - val_accuracy: 0.9330\n",
            "Epoch 81/100\n",
            "81/81 [==============================] - 37s 448ms/step - loss: 0.0875 - accuracy: 0.9907 - val_loss: 0.4508 - val_accuracy: 0.9174\n",
            "Epoch 82/100\n",
            "81/81 [==============================] - 37s 446ms/step - loss: 0.0800 - accuracy: 0.9934 - val_loss: 0.3865 - val_accuracy: 0.9237\n",
            "Epoch 83/100\n",
            "81/81 [==============================] - 37s 447ms/step - loss: 0.0753 - accuracy: 0.9942 - val_loss: 0.5791 - val_accuracy: 0.9065\n",
            "Epoch 84/100\n",
            "81/81 [==============================] - 37s 446ms/step - loss: 0.2495 - accuracy: 0.9505 - val_loss: 0.3325 - val_accuracy: 0.9128\n",
            "Epoch 85/100\n",
            "81/81 [==============================] - 37s 447ms/step - loss: 0.1441 - accuracy: 0.9751 - val_loss: 0.4085 - val_accuracy: 0.8925\n",
            "Epoch 86/100\n",
            "81/81 [==============================] - 38s 453ms/step - loss: 0.1088 - accuracy: 0.9871 - val_loss: 0.4546 - val_accuracy: 0.9143\n",
            "Epoch 87/100\n",
            "81/81 [==============================] - 37s 446ms/step - loss: 0.3677 - accuracy: 0.9155 - val_loss: 0.3844 - val_accuracy: 0.8988\n",
            "Epoch 88/100\n",
            "81/81 [==============================] - 37s 446ms/step - loss: 0.2110 - accuracy: 0.9564 - val_loss: 0.3418 - val_accuracy: 0.8988\n",
            "Epoch 89/100\n",
            "81/81 [==============================] - 37s 446ms/step - loss: 0.1624 - accuracy: 0.9688 - val_loss: 0.3396 - val_accuracy: 0.9081\n",
            "Epoch 90/100\n",
            "81/81 [==============================] - 37s 446ms/step - loss: 0.1493 - accuracy: 0.9774 - val_loss: 0.3648 - val_accuracy: 0.9112\n",
            "Epoch 91/100\n",
            "81/81 [==============================] - 37s 446ms/step - loss: 0.1380 - accuracy: 0.9774 - val_loss: 0.3088 - val_accuracy: 0.9393\n",
            "Epoch 92/100\n",
            "81/81 [==============================] - 37s 445ms/step - loss: 0.1194 - accuracy: 0.9844 - val_loss: 0.3103 - val_accuracy: 0.9283\n",
            "Epoch 93/100\n",
            "81/81 [==============================] - 37s 447ms/step - loss: 0.1343 - accuracy: 0.9805 - val_loss: 0.3570 - val_accuracy: 0.9003\n",
            "Epoch 94/100\n",
            "81/81 [==============================] - 37s 445ms/step - loss: 0.1211 - accuracy: 0.9829 - val_loss: 0.3784 - val_accuracy: 0.9206\n",
            "Epoch 95/100\n",
            "81/81 [==============================] - 37s 447ms/step - loss: 0.1056 - accuracy: 0.9879 - val_loss: 0.4283 - val_accuracy: 0.9034\n",
            "Epoch 96/100\n",
            "81/81 [==============================] - 37s 448ms/step - loss: 0.0829 - accuracy: 0.9942 - val_loss: 0.3487 - val_accuracy: 0.9283\n",
            "Epoch 97/100\n",
            "81/81 [==============================] - 37s 447ms/step - loss: 0.0789 - accuracy: 0.9953 - val_loss: 0.4314 - val_accuracy: 0.9299\n",
            "Epoch 98/100\n",
            "81/81 [==============================] - 37s 446ms/step - loss: 0.1074 - accuracy: 0.9875 - val_loss: 0.3589 - val_accuracy: 0.9377\n",
            "Epoch 99/100\n",
            "81/81 [==============================] - 37s 446ms/step - loss: 0.3050 - accuracy: 0.9210 - val_loss: 0.3344 - val_accuracy: 0.9003\n",
            "Epoch 100/100\n",
            "81/81 [==============================] - ETA: 0s - loss: 0.1679 - accuracy: 0.9673"
          ]
        },
        {
          "output_type": "stream",
          "name": "stderr",
          "text": [
            "\u001b[34m\u001b[1mwandb\u001b[0m: Adding directory to artifact (/content/wandb/run-20220812_015912-o6et144k/files/model-best)... Done. 0.2s\n"
          ]
        },
        {
          "output_type": "stream",
          "name": "stdout",
          "text": [
            "\b\b\b\b\b\b\b\b\b\b\b\b\b\b\b\b\b\b\b\b\b\b\b\b\b\b\b\b\b\b\b\b\b\b\b\b\b\b\b\b\b\b\b\b\b\b\b\b\b\b\b\b\b\b\b\b\b\b\b\b\b\b\b\b\b\b\b\b\b\b\b\b\b\b\b\b\b\b\b\b\b\b\r81/81 [==============================] - 53s 642ms/step - loss: 0.1679 - accuracy: 0.9673 - val_loss: 0.2764 - val_accuracy: 0.9377\n"
          ]
        }
      ]
    },
    {
      "cell_type": "code",
      "source": [
        "import pickle\n",
        "filename=\"/content/drive/My Drive/images/Test.pkl\"\n",
        "pickle.dump(resnet,open(filename,'wb'))"
      ],
      "metadata": {
        "id": "AwvnWPsn2mVS"
      },
      "execution_count": null,
      "outputs": []
    }
  ]
}