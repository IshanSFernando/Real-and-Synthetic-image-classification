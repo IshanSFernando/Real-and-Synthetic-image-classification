{
  "nbformat": 4,
  "nbformat_minor": 0,
  "metadata": {
    "colab": {
      "name": "Copy of General_Model_Evaluator.ipynb",
      "provenance": [],
      "collapsed_sections": [],
      "authorship_tag": "ABX9TyNL34zr1DROU3C2eBnBBLDY",
      "include_colab_link": true
    },
    "kernelspec": {
      "name": "python3",
      "display_name": "Python 3"
    },
    "language_info": {
      "name": "python"
    },
    "gpuClass": "standard"
  },
  "cells": [
    {
      "cell_type": "markdown",
      "metadata": {
        "id": "view-in-github",
        "colab_type": "text"
      },
      "source": [
        "<a href=\"https://colab.research.google.com/github/IshanSFernando/Real-and-Synthetic-image-classification/blob/main/Resnet_150_Model_Evaluator.ipynb\" target=\"_parent\"><img src=\"https://colab.research.google.com/assets/colab-badge.svg\" alt=\"Open In Colab\"/></a>"
      ]
    },
    {
      "cell_type": "code",
      "execution_count": 1,
      "metadata": {
        "id": "HKO6QZey54aM"
      },
      "outputs": [],
      "source": [
        "import tensorflow as tf\n",
        "import numpy as np\n",
        "import tqdm\n",
        "import pickle\n",
        "import os\n",
        "from os import walk\n",
        "import pandas as pd\n",
        "from keras.models import load_model"
      ]
    },
    {
      "cell_type": "code",
      "source": [
        "#Mount Google Drive\n",
        "from google.colab import drive\n",
        "drive.mount('/content/drive/')"
      ],
      "metadata": {
        "colab": {
          "base_uri": "https://localhost:8080/"
        },
        "id": "NkP-tvJ96Cng",
        "outputId": "c33974f8-0ebf-410e-c8bf-cf244af2bc82"
      },
      "execution_count": 3,
      "outputs": [
        {
          "output_type": "stream",
          "name": "stdout",
          "text": [
            "Mounted at /content/drive/\n"
          ]
        }
      ]
    },
    {
      "cell_type": "markdown",
      "source": [
        "# *Raid Data Set Reading*"
      ],
      "metadata": {
        "id": "UdXwg0L3M9dQ"
      }
    },
    {
      "cell_type": "code",
      "source": [
        "AUTOTUNE = tf.data.AUTOTUNE\n",
        "def decode_img(img):\n",
        "  # Convert the compressed string to a 3D uint8 tensor\n",
        "  img = tf.io.decode_jpeg(img, channels=3)\n",
        "  # Resize the image to the desired size\n",
        "  return tf.image.resize(img, [224, 224])\n",
        "def get_label(file_path):\n",
        "  # Convert the path to a list of path components\n",
        "  parts = tf.strings.split(file_path, os.path.sep)\n",
        "  # The second to last is the class-directory\n",
        "  one_hot = parts[index[0]] == class_names\n",
        "  # Integer encode the label\n",
        "  return tf.argmax(one_hot)\n",
        "\n",
        "def process_path(file_path):\n",
        "  label = [1,0]\n",
        "  if get_label(file_path)==1:\n",
        "    label = [0,1]\n",
        "  # Load the raw data from the file as a string\n",
        "  img = tf.io.read_file(file_path)\n",
        "  img = decode_img(img)\n",
        "  return img, label\n",
        "def get_images(file_path):\n",
        "  # Load the raw data from the file as a string\n",
        "  img = tf.io.read_file(file_path)\n",
        "  img = decode_img(img)\n",
        "  return img\n",
        "\n",
        "def configure_for_performance(ds):\n",
        "  ds = ds.cache()\n",
        "  ds = ds.batch(32)\n",
        "  # ds = ds.shuffle(buffer_size=1000)\n",
        "  ds = ds.prefetch(buffer_size=AUTOTUNE)\n",
        "  return ds\n",
        "\n",
        "def fileRead(dir_path,all):\n",
        "  for (dir_path2, dir_names, file_names) in walk(dir_path):\n",
        "    if len(file_names)>0:\n",
        "      print(dir_path)\n",
        "      for i in tqdm.tqdm(file_names,total=len(file_names)):\n",
        "        all.append(dir_path+'/'+i)        \n",
        "    if len(dir_names)>0:\n",
        "      length = len(dir_names)\n",
        "      for path in range(length-1,-1,-1):\n",
        "        path_name = dir_names.pop()\n",
        "        fileRead(dir_path+'/'+path_name,all)\n",
        "def mainFileRead(dir_path):\n",
        "  all=[]\n",
        "  fileRead(dir_path,all)\n",
        "  return all"
      ],
      "metadata": {
        "id": "2TABPKrGDpll"
      },
      "execution_count": 45,
      "outputs": []
    },
    {
      "cell_type": "code",
      "source": [
        "#Make sure directory names are correct, otherwis results will be wrong\n",
        "class_names = ['real', 'synthetic']\n",
        "\n",
        "Directory_to_parent_folder = \"/content/drive/MyDrive/VIP_CUP/general_data_set/test/v1\"\n",
        "#Directory_to_parent_folder = '/content/drive/MyDrive/VIP_CUP/Inpainting/Test/version_1'\n",
        "imageList = mainFileRead(Directory_to_parent_folder)\n",
        "# print(imageList[0])\n",
        "parts = tf.strings.split(imageList[0], os.path.sep)\n",
        "# print(parts)\n",
        "print('-------------')\n",
        "a = np.where(parts == class_names[0])\n",
        "b = np.where(parts == class_names[1])\n",
        "if len(a[0])>0:\n",
        "  index = a[0] \n",
        "  print('a',a)\n",
        "elif (len(b[0])>0):\n",
        "  index = b[0]\n",
        "  print('b',b)\n",
        "else:\n",
        "  print('Directory Error')\n",
        "print('This nuber shuld be checked-',index[0])\n",
        "print(parts[index[0]])"
      ],
      "metadata": {
        "colab": {
          "base_uri": "https://localhost:8080/"
        },
        "id": "2c4fT8hCDubE",
        "outputId": "c4e72629-fa6c-49b7-b98c-7cbc70d056f2"
      },
      "execution_count": 46,
      "outputs": [
        {
          "output_type": "stream",
          "name": "stdout",
          "text": [
            "/content/drive/MyDrive/VIP_CUP/general_data_set/test/v1/synthetic/gan3\n"
          ]
        },
        {
          "output_type": "stream",
          "name": "stderr",
          "text": [
            "100%|██████████| 59/59 [00:00<00:00, 228709.74it/s]\n"
          ]
        },
        {
          "output_type": "stream",
          "name": "stdout",
          "text": [
            "/content/drive/MyDrive/VIP_CUP/general_data_set/test/v1/synthetic/glide\n"
          ]
        },
        {
          "output_type": "stream",
          "name": "stderr",
          "text": [
            "100%|██████████| 400/400 [00:00<00:00, 1007640.60it/s]\n"
          ]
        },
        {
          "output_type": "stream",
          "name": "stdout",
          "text": [
            "/content/drive/MyDrive/VIP_CUP/general_data_set/test/v1/synthetic/inpainting\n"
          ]
        },
        {
          "output_type": "stream",
          "name": "stderr",
          "text": [
            "100%|██████████| 400/400 [00:00<00:00, 636223.59it/s]\n"
          ]
        },
        {
          "output_type": "stream",
          "name": "stdout",
          "text": [
            "/content/drive/MyDrive/VIP_CUP/general_data_set/test/v1/synthetic/gan2\n"
          ]
        },
        {
          "output_type": "stream",
          "name": "stderr",
          "text": [
            "100%|██████████| 100/100 [00:00<00:00, 373491.01it/s]\n"
          ]
        },
        {
          "output_type": "stream",
          "name": "stdout",
          "text": [
            "/content/drive/MyDrive/VIP_CUP/general_data_set/test/v1/real/gan3\n"
          ]
        },
        {
          "output_type": "stream",
          "name": "stderr",
          "text": [
            "100%|██████████| 48/48 [00:00<00:00, 146525.90it/s]\n"
          ]
        },
        {
          "output_type": "stream",
          "name": "stdout",
          "text": [
            "/content/drive/MyDrive/VIP_CUP/general_data_set/test/v1/real/inpainting\n"
          ]
        },
        {
          "output_type": "stream",
          "name": "stderr",
          "text": [
            "100%|██████████| 1034/1034 [00:00<00:00, 751891.53it/s]\n"
          ]
        },
        {
          "output_type": "stream",
          "name": "stdout",
          "text": [
            "/content/drive/MyDrive/VIP_CUP/general_data_set/test/v1/real/gan2\n"
          ]
        },
        {
          "output_type": "stream",
          "name": "stderr",
          "text": [
            "100%|██████████| 102/102 [00:00<00:00, 412157.04it/s]"
          ]
        },
        {
          "output_type": "stream",
          "name": "stdout",
          "text": [
            "-------------\n",
            "b (array([8]),)\n",
            "This nuber shuld be checked- 8\n",
            "tf.Tensor(b'synthetic', shape=(), dtype=string)\n"
          ]
        },
        {
          "output_type": "stream",
          "name": "stderr",
          "text": [
            "\n"
          ]
        }
      ]
    },
    {
      "cell_type": "code",
      "source": [
        "image_count = len(imageList)\n",
        "list_ds = tf.data.Dataset.from_tensor_slices(imageList)\n",
        "# val_size = int(image_count * 0.2)\n",
        "# train_ds = list_ds.skip(val_size)\n",
        "# val_ds = list_ds.take(val_size)"
      ],
      "metadata": {
        "id": "UCnx7TNFqWjk"
      },
      "execution_count": 47,
      "outputs": []
    },
    {
      "cell_type": "code",
      "source": [
        ""
      ],
      "metadata": {
        "id": "qFWpnfiALKdC"
      },
      "execution_count": null,
      "outputs": []
    },
    {
      "cell_type": "code",
      "source": [
        "print('Number of Images',tf.data.experimental.cardinality(list_ds).numpy())\n",
        "data_set = configure_for_performance(list_ds.map(process_path, num_parallel_calls=AUTOTUNE))\n",
        "data_set"
      ],
      "metadata": {
        "colab": {
          "base_uri": "https://localhost:8080/"
        },
        "id": "awuY_tvFIL6k",
        "outputId": "a7c8038e-1699-4330-a98a-b90a00f116e1"
      },
      "execution_count": 48,
      "outputs": [
        {
          "output_type": "stream",
          "name": "stdout",
          "text": [
            "Number of Images 2143\n"
          ]
        },
        {
          "output_type": "execute_result",
          "data": {
            "text/plain": [
              "<PrefetchDataset element_spec=(TensorSpec(shape=(None, 224, 224, 3), dtype=tf.float32, name=None), TensorSpec(shape=(None, 2), dtype=tf.int32, name=None))>"
            ]
          },
          "metadata": {},
          "execution_count": 48
        }
      ]
    },
    {
      "cell_type": "markdown",
      "source": [
        "#*Model Loading*"
      ],
      "metadata": {
        "id": "T7lUGxzMNTj7"
      }
    },
    {
      "cell_type": "code",
      "source": [
        "###### File name of the model #####\n",
        "# model1= 'glide-resnet.pkl'\n",
        "# dir = '/content/drive/MyDrive/VIP_CUP/Models/'\n",
        "# dir = '/content/drive/MyDrive/VIP_CUP/Models/submission-v1.0/Models/'\n",
        "\n",
        "# gan2 = load_model(dir+'gan2v2-resnet.h5')\n",
        "# gan3 = load_model('/content/drive/MyDrive/VIP_CUP/Models/gan3v2-resnet.h5')\n",
        "# glide = load_model(dir+'glide-resnet.h5')\n",
        "# impainting = load_model(dir+'impainting-resnet.h5')\n",
        "# transformer = load_model(dir+'Transform-resnet.h5')\n",
        "\n",
        "general_model = load_model('/content/drive/MyDrive/VIP_CUP/Models/resnet50.h5')"
      ],
      "metadata": {
        "id": "jVF-70w36eSn"
      },
      "execution_count": 49,
      "outputs": []
    },
    {
      "cell_type": "markdown",
      "source": [
        "#*Model Evaluating*"
      ],
      "metadata": {
        "id": "FVOzohL4NYkP"
      }
    },
    {
      "cell_type": "code",
      "source": [
        "# Do not run\n",
        "# result = model.evaluate(data_set,batch_size=64)\n",
        "# print('Loss =',result[0],'Accuracy =',result[1])"
      ],
      "metadata": {
        "id": "_SSqJFPt6h1n"
      },
      "execution_count": null,
      "outputs": []
    },
    {
      "cell_type": "code",
      "source": [
        "def predict1(prediction1,prediction2,prediction3,prediction4,prediction5):\n",
        "  if prediction1[0][0]<prediction1[0][1] or prediction2[0][0]<prediction2[0][1] or prediction3[0][0]<prediction3[0][1] or prediction4[0][0]<prediction4[0][1] or prediction5[0][0]<prediction5[0][1]:\n",
        "    logit=1\n",
        "  else:\n",
        "    logit=-1\n",
        "  return logit \n",
        "#gan2, gan3, glide, impainting, transformer\n",
        "# Gan3 - 0.6165\n",
        "# glide- 0.9312\n",
        "# gan2 - 0.6201\n",
        "# inpainting - 0.9295\n",
        "# tranaform - 0.8411\n",
        "\n",
        "def predict(prediction1,prediction2,prediction3,prediction4,prediction5):\n",
        "  accuracies=[0.6201,0.6165,0.9312,0.9295,0.8411]\n",
        "  accuracies=np.array(accuracies)\n",
        "  accuracies=accuracies/accuracies.sum(axis=0,keepdims=1)\n",
        "  real=prediction1[0][0]*accuracies[0]+prediction2[0][0]*accuracies[1]+prediction3[0][0]*accuracies[2]+prediction4[0][0]*accuracies[3]+prediction5[0][0]*accuracies[4]\n",
        "  synthetic=prediction1[0][1]*accuracies[0]+prediction2[0][1]*accuracies[1]+prediction3[0][1]*accuracies[2]+prediction4[0][1]*accuracies[3]+prediction5[0][1]*accuracies[4]\n",
        "  if real>synthetic:\n",
        "    logit=-1\n",
        "  else:\n",
        "    logit=1  \n",
        "  return logit  "
      ],
      "metadata": {
        "id": "JwGNk2X2zxv4"
      },
      "execution_count": null,
      "outputs": []
    },
    {
      "cell_type": "code",
      "source": [
        "def predict2(prediction1):\n",
        "  real=prediction1[0][0]\n",
        "  synthetic=prediction1[0][1]\n",
        "  if real>synthetic:\n",
        "    logit=-1\n",
        "  else:\n",
        "    logit=1  \n",
        "  return logit  \n"
      ],
      "metadata": {
        "id": "JMFPqA1TKmnT"
      },
      "execution_count": 50,
      "outputs": []
    },
    {
      "cell_type": "code",
      "source": [
        "singe_images = configure_for_performance(list_ds.map(get_images, num_parallel_calls=AUTOTUNE))\n",
        "singe_images"
      ],
      "metadata": {
        "id": "8yHj467K1Bwy",
        "colab": {
          "base_uri": "https://localhost:8080/"
        },
        "outputId": "cec42dbc-61ce-414f-b7fc-f4a009459fc8"
      },
      "execution_count": 51,
      "outputs": [
        {
          "output_type": "execute_result",
          "data": {
            "text/plain": [
              "<PrefetchDataset element_spec=TensorSpec(shape=(None, 224, 224, 3), dtype=tf.float32, name=None)>"
            ]
          },
          "metadata": {},
          "execution_count": 51
        }
      ]
    },
    {
      "cell_type": "code",
      "source": [
        "imagescsv = np.array(imageList)\n",
        "imagescsv = np.reshape(imagescsv, (-1, 1))\n",
        "imagescsv = pd.DataFrame(imagescsv, columns=['filePath'])\n",
        "imagescsv.to_csv('imagescsv.csv')\n",
        "tab = pd.read_csv('imagescsv.csv')\n",
        "labels = ['real', 'synthetic','Real', 'Synthetic']\n",
        "predicton_list = []\n",
        "for index, dat in tqdm.tqdm(tab.iterrows(), total=len(tab)):\n",
        "  parts = tf.strings.split(dat['filePath'], os.path.sep)\n",
        "  if (labels[0] in parts) or (labels[2] in parts):\n",
        "    ans = -1\n",
        "  elif (labels[1] in parts) or (labels[3] in parts):\n",
        "    ans= +1\n",
        "  else:\n",
        "    print(\"Error\")\n",
        "    break\n",
        "  predicton_list.append(ans)"
      ],
      "metadata": {
        "id": "hoaGGgk24wuX",
        "colab": {
          "base_uri": "https://localhost:8080/"
        },
        "outputId": "598abdb5-61b4-468d-ad3a-d963b7bb4124"
      },
      "execution_count": 52,
      "outputs": [
        {
          "output_type": "stream",
          "name": "stderr",
          "text": [
            "100%|██████████| 2143/2143 [00:28<00:00, 75.24it/s]\n"
          ]
        }
      ]
    },
    {
      "cell_type": "code",
      "source": [
        "tab['label']=predicton_list\n",
        "print(tab)"
      ],
      "metadata": {
        "colab": {
          "base_uri": "https://localhost:8080/"
        },
        "id": "iPtfplTaShw6",
        "outputId": "0bce0317-86c7-486b-c6a6-e54cd99815ad"
      },
      "execution_count": 53,
      "outputs": [
        {
          "output_type": "stream",
          "name": "stdout",
          "text": [
            "      Unnamed: 0                                           filePath  label\n",
            "0              0  /content/drive/MyDrive/VIP_CUP/general_data_se...      1\n",
            "1              1  /content/drive/MyDrive/VIP_CUP/general_data_se...      1\n",
            "2              2  /content/drive/MyDrive/VIP_CUP/general_data_se...      1\n",
            "3              3  /content/drive/MyDrive/VIP_CUP/general_data_se...      1\n",
            "4              4  /content/drive/MyDrive/VIP_CUP/general_data_se...      1\n",
            "...          ...                                                ...    ...\n",
            "2138        2138  /content/drive/MyDrive/VIP_CUP/general_data_se...     -1\n",
            "2139        2139  /content/drive/MyDrive/VIP_CUP/general_data_se...     -1\n",
            "2140        2140  /content/drive/MyDrive/VIP_CUP/general_data_se...     -1\n",
            "2141        2141  /content/drive/MyDrive/VIP_CUP/general_data_se...     -1\n",
            "2142        2142  /content/drive/MyDrive/VIP_CUP/general_data_se...     -1\n",
            "\n",
            "[2143 rows x 3 columns]\n"
          ]
        }
      ]
    },
    {
      "cell_type": "code",
      "source": [
        "for index, dat in tqdm.tqdm(tab.iterrows(), total=len(tab)): # for on images\n",
        "    filename = dat['filePath']# filepath of an image\n",
        "    test_image = tf.keras.utils.load_img(filename,target_size=(224,224))\n",
        "    test_image = tf.keras.utils.img_to_array(test_image)\n",
        "    test_image = np.expand_dims(test_image, axis = 0)\n",
        "    #logit = predict(gan2.predict(test_image),gan3.predict(test_image),glide.predict(test_image),impainting.predict(test_image),transformer.predict(test_image))# TODO compute the logit for the image\n",
        "    logit = predict2(general_model.predict(test_image))\n",
        "    tab.loc[index,'logit'] = logit  # insert the logit in table\n",
        "tab.to_csv('output_csv', index=False) "
      ],
      "metadata": {
        "id": "3lFNzi802QvY",
        "colab": {
          "base_uri": "https://localhost:8080/"
        },
        "outputId": "2bdfb852-6921-48f2-823b-30f999b2b50a"
      },
      "execution_count": 56,
      "outputs": [
        {
          "output_type": "stream",
          "name": "stderr",
          "text": [
            "100%|██████████| 2143/2143 [18:30<00:00,  1.93it/s]\n"
          ]
        }
      ]
    },
    {
      "cell_type": "code",
      "source": [
        "out = pd.read_csv('output_csv')\n",
        "print(out)"
      ],
      "metadata": {
        "id": "w4PBCgq-EEjx",
        "colab": {
          "base_uri": "https://localhost:8080/"
        },
        "outputId": "545a88e7-13eb-4100-8786-b86ae1abad29"
      },
      "execution_count": 57,
      "outputs": [
        {
          "output_type": "stream",
          "name": "stdout",
          "text": [
            "      Unnamed: 0                                           filePath  label  \\\n",
            "0              0  /content/drive/MyDrive/VIP_CUP/general_data_se...      1   \n",
            "1              1  /content/drive/MyDrive/VIP_CUP/general_data_se...      1   \n",
            "2              2  /content/drive/MyDrive/VIP_CUP/general_data_se...      1   \n",
            "3              3  /content/drive/MyDrive/VIP_CUP/general_data_se...      1   \n",
            "4              4  /content/drive/MyDrive/VIP_CUP/general_data_se...      1   \n",
            "...          ...                                                ...    ...   \n",
            "2138        2138  /content/drive/MyDrive/VIP_CUP/general_data_se...     -1   \n",
            "2139        2139  /content/drive/MyDrive/VIP_CUP/general_data_se...     -1   \n",
            "2140        2140  /content/drive/MyDrive/VIP_CUP/general_data_se...     -1   \n",
            "2141        2141  /content/drive/MyDrive/VIP_CUP/general_data_se...     -1   \n",
            "2142        2142  /content/drive/MyDrive/VIP_CUP/general_data_se...     -1   \n",
            "\n",
            "      logit  \n",
            "0      -1.0  \n",
            "1      -1.0  \n",
            "2       1.0  \n",
            "3      -1.0  \n",
            "4       1.0  \n",
            "...     ...  \n",
            "2138   -1.0  \n",
            "2139   -1.0  \n",
            "2140   -1.0  \n",
            "2141   -1.0  \n",
            "2142   -1.0  \n",
            "\n",
            "[2143 rows x 4 columns]\n"
          ]
        }
      ]
    },
    {
      "cell_type": "code",
      "source": [
        "label = np.array(out['label'])\n",
        "#label = label.astype(np.int32)\n",
        "logit = np.array(out['logit'])\n",
        "#logit = label.astype(np.int32)\n",
        "eval = np.add(label,logit)"
      ],
      "metadata": {
        "id": "Eb8ECOB-UQUq"
      },
      "execution_count": 61,
      "outputs": []
    },
    {
      "cell_type": "code",
      "source": [
        "zero_count = np.count_nonzero(eval==0)\n",
        "accu = (len(eval)-zero_count)/len(eval)\n",
        "print('Accuracy;-',accu)"
      ],
      "metadata": {
        "colab": {
          "base_uri": "https://localhost:8080/"
        },
        "id": "tyuQW5M-Wggn",
        "outputId": "82d5e9df-68e5-4fde-a013-4105f14adb3b"
      },
      "execution_count": 62,
      "outputs": [
        {
          "output_type": "stream",
          "name": "stdout",
          "text": [
            "Accuracy;- 0.5730284647690154\n"
          ]
        }
      ]
    },
    {
      "cell_type": "code",
      "source": [
        "true_postive = np.count_nonzero(eval==2)\n",
        "true_negative= np.count_nonzero(eval==-2)\n",
        "false_postive = np.count_nonzero(logit ==1)-np.count_nonzero(eval == 2)\n",
        "false_negative = np.count_nonzero(logit ==-1)-np.count_nonzero(eval == -2)\n",
        "length = len(eval)\n",
        "print('true_postive-',true_postive/length,'true_negative-',true_negative/length,'false_negative-',false_negative/length,'false_postive-',false_postive/length)\n"
      ],
      "metadata": {
        "colab": {
          "base_uri": "https://localhost:8080/"
        },
        "id": "4dGe1jGTtv3g",
        "outputId": "c4a9f398-fc5e-41ba-8c65-73935667537d"
      },
      "execution_count": 63,
      "outputs": [
        {
          "output_type": "stream",
          "name": "stdout",
          "text": [
            "true_postive- 0.06952869808679421 true_negative- 0.5034997666822212 false_negative- 0.377974801679888 false_postive- 0.04899673355109659\n"
          ]
        }
      ]
    }
  ]
}